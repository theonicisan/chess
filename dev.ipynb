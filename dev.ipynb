{
 "cells": [
  {
   "cell_type": "code",
   "execution_count": 1,
   "metadata": {},
   "outputs": [],
   "source": [
    "import chesslib\n",
    "import numpy as np\n",
    "import chess"
   ]
  },
  {
   "cell_type": "code",
   "execution_count": 10,
   "metadata": {},
   "outputs": [
    {
     "name": "stdout",
     "output_type": "stream",
     "text": [
      "{'test': [1, 1]}\n",
      "{'test': [1, 2]}\n",
      "{'test': [1, 3]}\n"
     ]
    }
   ],
   "source": [
    "dictionary = {}\n",
    "dict_key = 'test'\n",
    "dictionary[dict_key] = [1,1]\n",
    "\n",
    "print(dictionary)\n",
    "\n",
    "dictionary[dict_key] = [1,dictionary[dict_key][1]+1]\n",
    "\n",
    "print(dictionary)\n",
    "\n",
    "dictionary[dict_key] = [1,dictionary[dict_key][1]+1]\n",
    "\n",
    "print(dictionary)"
   ]
  }
 ],
 "metadata": {
  "kernelspec": {
   "display_name": "Python 3",
   "language": "python",
   "name": "python3"
  },
  "language_info": {
   "codemirror_mode": {
    "name": "ipython",
    "version": 3
   },
   "file_extension": ".py",
   "mimetype": "text/x-python",
   "name": "python",
   "nbconvert_exporter": "python",
   "pygments_lexer": "ipython3",
   "version": "3.12.0"
  }
 },
 "nbformat": 4,
 "nbformat_minor": 2
}
