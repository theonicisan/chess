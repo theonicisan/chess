{
 "cells": [
  {
   "cell_type": "code",
   "execution_count": 23,
   "metadata": {},
   "outputs": [],
   "source": [
    "import chesslib as cl\n",
    "import chess\n",
    "import pandas as pd\n",
    "import numpy as np\n",
    "import random\n",
    "import time\n",
    "from teradataml import *"
   ]
  },
  {
   "cell_type": "code",
   "execution_count": 24,
   "metadata": {},
   "outputs": [],
   "source": [
    "# Connect with Teradata Database\n",
    "eng = create_context(\"192.168.56.1\", \"val\", \"val\")\n",
    "conn = get_connection()\n",
    "replay_buffer_table = \"replay_buffer\"\n",
    "replay_buffer_staging_table = \"replay_buffer_stage\"\n",
    "aggregate_states_table = \"states\""
   ]
  },
  {
   "cell_type": "code",
   "execution_count": 25,
   "metadata": {},
   "outputs": [
    {
     "name": "stdout",
     "output_type": "stream",
     "text": [
      "0\n"
     ]
    }
   ],
   "source": [
    "\n",
    "\n",
    "aggregate_reward_cursor = execute_sql(\"SELECT reward_aggregate FROM \" + aggregate_states_table +\" WHERE FEN = 'bla';\")\n",
    "\n",
    "try:\n",
    "    aggregate_reward = aggregate_reward_cursor.fetchall()[0][0]  # There has to be a better way to do this.\n",
    "except:\n",
    "    aggregate_reward = 0\n",
    "    \n",
    "print(aggregate_reward)"
   ]
  },
  {
   "cell_type": "code",
   "execution_count": 26,
   "metadata": {},
   "outputs": [
    {
     "data": {
      "text/plain": [
       "True"
      ]
     },
     "execution_count": 26,
     "metadata": {},
     "output_type": "execute_result"
    }
   ],
   "source": [
    "conn.close\n",
    "remove_context()"
   ]
  }
 ],
 "metadata": {
  "kernelspec": {
   "display_name": "Python 3",
   "language": "python",
   "name": "python3"
  },
  "language_info": {
   "codemirror_mode": {
    "name": "ipython",
    "version": 3
   },
   "file_extension": ".py",
   "mimetype": "text/x-python",
   "name": "python",
   "nbconvert_exporter": "python",
   "pygments_lexer": "ipython3",
   "version": "3.12.0"
  }
 },
 "nbformat": 4,
 "nbformat_minor": 2
}
