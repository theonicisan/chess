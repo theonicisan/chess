{
 "cells": [
  {
   "cell_type": "code",
   "execution_count": 36,
   "metadata": {},
   "outputs": [],
   "source": [
    "from teradataml import *\n",
    "import chess\n",
    "import time"
   ]
  },
  {
   "cell_type": "code",
   "execution_count": 37,
   "metadata": {},
   "outputs": [],
   "source": [
    "# Connect with Teradata Database\n",
    "eng = create_context(\"192.168.56.1\", \"val\", \"val\")\n",
    "conn = get_connection()"
   ]
  },
  {
   "cell_type": "code",
   "execution_count": 38,
   "metadata": {},
   "outputs": [
    {
     "name": "stdout",
     "output_type": "stream",
     "text": [
      "rnbqkbnr/pppppppp/8/8/8/8/PPPPPPPP/RNBQKBNR w KQkq -\n",
      "Updated board: rnbqkbnr/pppppppp/8/8/8/4P3/PPPP1PPP/RNBQKBNR b KQkq - 0 1 after move e3\n",
      "Updated board: r1bqkbnr/pppppppp/n7/8/8/4P3/PPPP1PPP/RNBQKBNR w KQkq - 1 2 after move Na6\n",
      "Updated board: r1bqkbnr/pppppppp/n7/1B6/8/4P3/PPPP1PPP/RNBQK1NR b KQkq - 2 2 after move Bb5\n",
      "Updated board: r1bqkb1r/pppppppp/n4n2/1B6/8/4P3/PPPP1PPP/RNBQK1NR w KQkq - 3 3 after move Nf6\n",
      "Updated board: r1bqkb1r/pppppppp/n4n2/1B6/8/4P3/PPPPNPPP/RNBQK2R b KQkq - 4 3 after move Ne2\n",
      "Updated board: r1bqkb1r/pppppppp/n7/1B5n/8/4P3/PPPPNPPP/RNBQK2R w KQkq - 5 4 after move Nh5\n",
      "Updated board: r1bqkb1r/pppppppp/n7/7n/B7/4P3/PPPPNPPP/RNBQK2R b KQkq - 6 4 after move Ba4\n",
      "Updated board: r1bqkb1r/pppp1ppp/n3p3/7n/B7/4P3/PPPPNPPP/RNBQK2R w KQkq - 0 5 after move e6\n",
      "Updated board: r1bqkb1r/pppp1ppp/n3p3/7n/B2P4/4P3/PPP1NPPP/RNBQK2R b KQkq - 0 5 after move d4\n",
      "Updated board: r1bqkbr1/pppp1ppp/n3p3/7n/B2P4/4P3/PPP1NPPP/RNBQK2R w KQq - 1 6 after move Rg8\n",
      "Updated board: r1bqkbr1/pppp1ppp/n3p3/7n/B2P4/4P1P1/PPP1NP1P/RNBQK2R b KQq - 0 6 after move g3\n",
      "Updated board: r1bqkbr1/pppp1ppp/n3pn2/8/B2P4/4P1P1/PPP1NP1P/RNBQK2R w KQq - 1 7 after move Nf6\n",
      "Updated board: r1bqkbr1/pppp1ppp/n3pn2/8/B2P4/P3P1P1/1PP1NP1P/RNBQK2R b KQq - 0 7 after move a3\n",
      "Updated board: r1bqkbr1/pppp1ppp/n3p3/8/B2Pn3/P3P1P1/1PP1NP1P/RNBQK2R w KQq - 1 8 after move Ne4\n",
      "Updated board: r1bqkbr1/pppp1ppp/n3p3/8/B2Pn3/P3P1P1/1PP1NP1P/RNBQKR2 b Qq - 2 8 after move Rf1\n",
      "Updated board: r1bqkbr1/pppp1ppp/n3p3/2n5/B2P4/P3P1P1/1PP1NP1P/RNBQKR2 w Qq - 3 9 after move Nec5\n",
      "Updated board: r1bqkbr1/pppp1ppp/n3p3/2n5/B2P2P1/P3P3/1PP1NP1P/RNBQKR2 b Qq - 0 9 after move g4\n",
      "Updated board: r1bqkbr1/pppp1ppp/n7/2n1p3/B2P2P1/P3P3/1PP1NP1P/RNBQKR2 w Qq - 0 10 after move e5\n",
      "Updated board: r1bqkbr1/pppp1ppp/n7/2n1p3/B2P2P1/P1N1P3/1PP1NP1P/R1BQKR2 b Qq - 1 10 after move Nbc3\n",
      "Updated board: r1bqkbr1/pppp2pp/n7/2n1pp2/B2P2P1/P1N1P3/1PP1NP1P/R1BQKR2 w Qq - 0 11 after move f5\n",
      "Updated board: r1bqkbr1/pppp2pp/n7/2n1pp2/B2P2P1/P1N1P3/RPP1NP1P/2BQKR2 b q - 1 11 after move Ra2\n",
      "Updated board: r1bqkbr1/pppp2pp/n7/4pp2/B2P2P1/P1NnP3/RPP1NP1P/2BQKR2 w q - 2 12 after move Nd3+\n",
      "Updated board: r1bqkbr1/pppp2pp/n7/4pp2/B2P2P1/P1NnP3/RPPKNP1P/2BQ1R2 b q - 3 12 after move Kd2\n",
      "Updated board: r1bqk1r1/pppp2pp/n7/2b1pp2/B2P2P1/P1NnP3/RPPKNP1P/2BQ1R2 w q - 4 13 after move Bc5\n",
      "Updated board: r1bqk1r1/pppB2pp/n7/2b1pp2/3P2P1/P1NnP3/RPPKNP1P/2BQ1R2 b q - 0 13 after move Bxd7+\n",
      "Updated board: r1bq2r1/pppB1kpp/n7/2b1pp2/3P2P1/P1NnP3/RPPKNP1P/2BQ1R2 w - - 1 14 after move Kf7\n",
      "Updated board: r1bq2r1/pppB1kpp/n7/2bPpp2/6P1/P1NnP3/RPPKNP1P/2BQ1R2 b - - 0 14 after move d5\n",
      "Updated board: r1bq2r1/pp1B1kpp/n1p5/2bPpp2/6P1/P1NnP3/RPPKNP1P/2BQ1R2 w - - 0 15 after move c6\n",
      "Updated board: r1bq2r1/pp1B1kpp/n1p5/2bPpp2/6PP/P1NnP3/RPPKNP2/2BQ1R2 b - - 0 15 after move h4\n",
      "Updated board: r1bq2r1/pp1B1kpp/nbp5/3Ppp2/6PP/P1NnP3/RPPKNP2/2BQ1R2 w - - 1 16 after move Bb6\n",
      "Updated board: r1bq2r1/pp1B1kpp/nbp5/3Ppp2/5NPP/P1NnP3/RPPK1P2/2BQ1R2 b - - 2 16 after move Nf4\n",
      "Updated board: r1bq2r1/pp1B1kpp/n1p5/3Ppp2/3b1NPP/P1NnP3/RPPK1P2/2BQ1R2 w - - 3 17 after move Bd4\n",
      "Updated board: r1bq2r1/pp1B1kpp/n1p5/3Ppp2/P2b1NPP/2NnP3/RPPK1P2/2BQ1R2 b - - 0 17 after move a4\n",
      "Updated board: r1bq2r1/pp1B1k1p/n1p5/3Pppp1/P2b1NPP/2NnP3/RPPK1P2/2BQ1R2 w - - 0 18 after move g5\n",
      "Updated board: r1bq2r1/pp1B1k1p/n1p5/3PppP1/P2b1NP1/2NnP3/RPPK1P2/2BQ1R2 b - - 0 18 after move hxg5\n",
      "Updated board: r1bq2r1/pp1B1k1p/n1p5/3PppP1/P2b1NP1/2N1P3/RPPK1n2/2BQ1R2 w - - 0 19 after move Nxf2\n",
      "Updated board: r1bq2r1/pp1B1k1p/n1p5/3PppP1/P2b1NP1/2N1P3/RPPKQn2/2B2R2 b - - 1 19 after move Qe2\n",
      "Updated board: r1bq2r1/pp1Bk2p/n1p5/3PppP1/P2b1NP1/2N1P3/RPPKQn2/2B2R2 w - - 2 20 after move Ke7\n",
      "Updated board: r1bq2r1/pp1Bk2p/n1p5/P2PppP1/3b1NP1/2N1P3/RPPKQn2/2B2R2 b - - 0 20 after move a5\n",
      "Updated board: r1bq2r1/pp1Bk2p/n1p5/P2PppP1/3b1NP1/2N1P2n/RPPKQ3/2B2R2 w - - 1 21 after move Nh3\n",
      "Updated board: r1bq2r1/pp1Bk2p/n1p5/P2PppP1/3b1NP1/2N1P2n/RPPKQ3/2BR4 b - - 2 21 after move Rd1\n",
      "Updated board: r1bq2r1/pp1Bk2p/n1p5/P2PppP1/3b1NP1/2N1P3/RPPKQn2/2BR4 w - - 3 22 after move Nf2\n",
      "Updated board: r1bq2r1/pp1Bk2p/n1p5/P2PppP1/3b1NP1/2NQP3/RPPK1n2/2BR4 b - - 4 22 after move Qd3\n",
      "Updated board: r1bq4/pp1Bk2p/n1p5/P2Pppr1/3b1NP1/2NQP3/RPPK1n2/2BR4 w - - 0 23 after move Rxg5\n",
      "Updated board: r1bq4/pp1Bk2p/n1p5/P2Pppr1/R2b1NP1/2NQP3/1PPK1n2/2BR4 b - - 1 23 after move Ra4\n",
      "Updated board: r1bq4/pp1k3p/n1p5/P2Pppr1/R2b1NP1/2NQP3/1PPK1n2/2BR4 w - - 0 24 after move Kxd7\n",
      "Updated board: r1bq4/pp1k3p/n1p5/P2Pppr1/R2b1NP1/3QP3/1PPK1n2/1NBR4 b - - 1 24 after move Nb1\n",
      "Updated board: r1bq4/pp1k3p/n1p5/P2Ppp2/R2b1Nr1/3QP3/1PPK1n2/1NBR4 w - - 0 25 after move Rxg4\n",
      "Updated board: r1bq4/pp1k3p/n1p5/P2Ppp2/R2b1Nr1/3QP3/1PPK1n2/1NB2R2 b - - 1 25 after move Rf1\n",
      "Updated board: r1bq4/pp1k3p/n1p5/P2P1p2/R2bpNr1/3QP3/1PPK1n2/1NB2R2 w - - 0 26 after move e4\n",
      "Updated board: r1bq4/pp1k3p/n1p5/P2P1p1N/R2bp1r1/3QP3/1PPK1n2/1NB2R2 b - - 1 26 after move Nh5\n",
      "Updated board: rnbq4/pp1k3p/2p5/P2P1p1N/R2bp1r1/3QP3/1PPK1n2/1NB2R2 w - - 2 27 after move Nb8\n",
      "Updated board: rnbq4/pp1k3p/2p5/P2P1p1N/R2bp1r1/3QP3/1PPK1R2/1NB5 b - - 0 27 after move Rxf2\n",
      "Updated board: rnb2q2/pp1k3p/2p5/P2P1p1N/R2bp1r1/3QP3/1PPK1R2/1NB5 w - - 1 28 after move Qf8\n",
      "Updated board: rnb2q2/pp1k3p/2p2N2/P2P1p2/R2bp1r1/3QP3/1PPK1R2/1NB5 b - - 2 28 after move Nf6+\n",
      "Updated board: rnb2q2/pp5p/2pk1N2/P2P1p2/R2bp1r1/3QP3/1PPK1R2/1NB5 w - - 3 29 after move Kd6\n",
      "Updated board: rnb2q2/pp5p/2pk1N2/P2P1p2/R2bQ1r1/4P3/1PPK1R2/1NB5 b - - 0 29 after move Qxe4\n",
      "Updated board: rnb2q2/pp5p/2pk1N2/P2P1p2/R2bQ3/4P1r1/1PPK1R2/1NB5 w - - 1 30 after move Rg3\n",
      "Updated board: rnb2q2/pp5p/2pk1N2/P2P1p2/2RbQ3/4P1r1/1PPK1R2/1NB5 b - - 2 30 after move Rc4\n",
      "Updated board: rnb2q2/pp5p/2pk1b2/P2P1p2/2R1Q3/4P1r1/1PPK1R2/1NB5 w - - 0 31 after move Bxf6\n",
      "Updated board: rnb2q2/pp5p/2pk1b2/P2P1p2/2R1Q3/2N1P1r1/1PPK1R2/2B5 b - - 1 31 after move Nc3\n",
      "Updated board: rnb2q1b/pp5p/2pk4/P2P1p2/2R1Q3/2N1P1r1/1PPK1R2/2B5 w - - 2 32 after move Bh8\n",
      "Updated board: rnb2q1b/pp5p/2pkQ3/P2P1p2/2R5/2N1P1r1/1PPK1R2/2B5 b - - 3 32 after move Qe6+\n",
      "Updated board: rn3q1b/pp5p/2pkb3/P2P1p2/2R5/2N1P1r1/1PPK1R2/2B5 w - - 0 33 after move Bxe6\n",
      "Updated board: rn3q1b/pp5p/2pkb3/P2P1p2/2R2R2/2N1P1r1/1PPK4/2B5 b - - 1 33 after move Rff4\n",
      "Updated board: rn3q1b/pp6/2pkb2p/P2P1p2/2R2R2/2N1P1r1/1PPK4/2B5 w - - 0 34 after move h6\n",
      "Updated board: rn3q1b/pp6/2pkb2p/P2P1p2/R4R2/2N1P1r1/1PPK4/2B5 b - - 1 34 after move Ra4\n",
      "Updated board: rn3q1b/pp6/3kb2p/P1pP1p2/R4R2/2N1P1r1/1PPK4/2B5 w - - 0 35 after move c5\n",
      "Updated board: rn3q1b/pp6/3kb2p/P1pP1p2/3R1R2/2N1P1r1/1PPK4/2B5 b - - 1 35 after move Rad4\n",
      "Updated board: rn3q1b/pp6/3kb2p/P1pP1p2/3R1R2/2N1P2r/1PPK4/2B5 w - - 2 36 after move Rh3\n",
      "Updated board: rn3q1b/pp6/3kb2p/P1pP1p2/N2R1R2/4P2r/1PPK4/2B5 b - - 3 36 after move Na4\n",
      "Updated board: rn2q2b/pp6/3kb2p/P1pP1p2/N2R1R2/4P2r/1PPK4/2B5 w - - 4 37 after move Qe8\n",
      "Updated board: rn2q2b/pp6/3kb2p/P1pP1p2/N2RR3/4P2r/1PPK4/2B5 b - - 5 37 after move Rfe4\n",
      "Updated board: rn2q2b/pp6/3kb2p/P2P1p2/N1pRR3/4P2r/1PPK4/2B5 w - - 0 38 after move c4\n",
      "Updated board: rn2q2b/pp6/3kb2p/P2P1p2/NPpRR3/4P2r/2PK4/2B5 b - b3 0 38 after move b4\n",
      "Updated board: rn2q2b/pp6/3kb2p/P2P1p2/N2RR3/1p2P2r/2PK4/2B5 w - - 0 39 after move cxb3\n",
      "Updated board: rn2q2b/pp6/3kb2p/P2P1p2/3RR3/1p2P2r/1NPK4/2B5 b - - 1 39 after move Nb2\n",
      "Updated board: rn5b/pp3q2/3kb2p/P2P1p2/3RR3/1p2P2r/1NPK4/2B5 w - - 2 40 after move Qf7\n",
      "Updated board: rn5b/pp3q2/3kP2p/P4p2/3RR3/1p2P2r/1NPK4/2B5 b - - 0 40 after move dxe6+\n",
      "Updated board: rn5b/pp3q2/4P2p/P1k2p2/3RR3/1p2P2r/1NPK4/2B5 w - - 1 41 after move Kc5\n",
      "Updated board: rn5b/pp3q2/4P2p/P1kR1p2/4R3/1p2P2r/1NPK4/2B5 b - - 2 41 after move Rd5+\n",
      "Updated board: rn5b/pp3q2/4P2p/P2k1p2/4R3/1p2P2r/1NPK4/2B5 w - - 0 42 after move Kxd5\n",
      "Updated board: rn5b/pp3q2/4P2p/P2k1p2/1R6/1p2P2r/1NPK4/2B5 b - - 1 42 after move Rb4\n",
      "Updated board: rn6/pp3q2/4P2p/P2k1p2/1R1b4/1p2P2r/1NPK4/2B5 w - - 2 43 after move Bd4\n",
      "Updated board: rn6/pp3q2/4P2p/P2k1p2/1RPb4/1p2P2r/1N1K4/2B5 b - - 0 43 after move c4+\n",
      "Updated board: rn6/pp3q2/2k1P2p/P4p2/1RPb4/1p2P2r/1N1K4/2B5 w - - 1 44 after move Kc6\n",
      "Updated board: rn6/pp2Pq2/2k4p/P4p2/1RPb4/1p2P2r/1N1K4/2B5 b - - 0 44 after move e7\n",
      "Updated board: r7/pp1nPq2/2k4p/P4p2/1RPb4/1p2P2r/1N1K4/2B5 w - - 1 45 after move Nd7\n",
      "Updated board: r7/pp1nPq2/2k4p/P4p2/1RPb4/1p1KP2r/1N6/2B5 b - - 2 45 after move Kd3\n",
      "Updated board: r7/pp2Pq2/2k4p/P3np2/1RPb4/1p1KP2r/1N6/2B5 w - - 3 46 after move Ne5+\n",
      "Updated board: r7/pp2Pq2/2k4p/P3np2/1RPb4/1p2P2r/1N2K3/2B5 b - - 4 46 after move Ke2\n",
      "Updated board: r5q1/pp2P3/2k4p/P3np2/1RPb4/1p2P2r/1N2K3/2B5 w - - 5 47 after move Qg8\n",
      "Updated board: r5q1/pp2P3/2k4p/P3np2/1RPb4/1p2P2r/1N3K2/2B5 b - - 6 47 after move Kf2\n",
      "Updated board: r5q1/pp2P3/2k4p/P4p2/1RPb4/1p1nP2r/1N3K2/2B5 w - - 7 48 after move Nd3+\n",
      "Updated board: r5q1/pp2P3/2k4p/P4p2/1RPb4/1p1nP2r/1N2K3/2B5 b - - 8 48 after move Ke2\n",
      "Updated board: r5q1/pp2P3/2k2b1p/P4p2/1RP5/1p1nP2r/1N2K3/2B5 w - - 9 49 after move Bf6\n",
      "Updated board: r3Q1q1/pp6/2k2b1p/P4p2/1RP5/1p1nP2r/1N2K3/2B5 b - - 0 49 after move e8=Q+\n",
      "Updated board: r3Q1q1/pp6/3k1b1p/P4p2/1RP5/1p1nP2r/1N2K3/2B5 w - - 1 50 after move Kd6\n",
      "Updated board: r3Q1q1/pp6/3k1b1p/P4p2/1RP5/1p1NP2r/4K3/2B5 b - - 0 50 after move Nxd3\n",
      "Updated board: r3Q1qb/pp6/3k3p/P4p2/1RP5/1p1NP2r/4K3/2B5 w - - 1 51 after move Bh8\n",
      "Updated board: r5qb/pp6/3k3p/P4p2/1RP1Q3/1p1NP2r/4K3/2B5 b - - 2 51 after move Qe4\n",
      "Updated board: r5q1/pp6/3k3p/P4p2/1RP1Q3/1p1NP2r/1b2K3/2B5 w - - 3 52 after move Bb2\n",
      "Updated board: r5q1/pp6/3k3p/P3Np2/1RP1Q3/1p2P2r/1b2K3/2B5 b - - 4 52 after move Ne5\n",
      "Updated board: r5q1/pp6/3k3p/P3Np2/1RP1Q3/1p2P2r/4K3/b1B5 w - - 5 53 after move Ba1\n",
      "Updated board: r5q1/pp6/3k3p/P3Np2/1RP5/1p2P2r/2Q1K3/b1B5 b - - 6 53 after move Qc2\n",
      "Updated board: r5q1/pp6/3k3p/P3Np2/1RP5/1p2P3/2Q1K2r/b1B5 w - - 7 54 after move Rh2+\n",
      "Updated board: r5q1/pp6/3k3p/P3Np2/1RP5/1p2P3/2Q4r/b1BK4 b - - 8 54 after move Kd1\n",
      "Updated board: r5q1/pp6/3k3p/P3Np2/1RP5/1p2P3/2r5/b1BK4 w - - 0 55 after move Rxc2\n",
      "Updated board: r5q1/pp6/3k3p/P3Np2/1RP1P3/1p6/2r5/b1BK4 b - - 0 55 after move e4\n",
      "Updated board: r5q1/p7/3k3p/Pp2Np2/1RP1P3/1p6/2r5/b1BK4 w - b6 0 56 after move b5\n",
      "Updated board: r5q1/p7/3k3p/Pp2Np2/1RP1P3/1p6/2r5/b1B1K3 b - - 1 56 after move Ke1\n",
      "Updated board: r5q1/p7/3k3p/Pp2Np2/1RPbP3/1p6/2r5/2B1K3 w - - 2 57 after move Bd4\n",
      "Updated board: r5q1/p7/3k3B/Pp2Np2/1RPbP3/1p6/2r5/4K3 b - - 0 57 after move Bxh6\n",
      "Updated board: 1r4q1/p7/3k3B/Pp2Np2/1RPbP3/1p6/2r5/4K3 w - - 1 58 after move Rb8\n",
      "Updated board: 1r4q1/p7/3k2NB/Pp3p2/1RPbP3/1p6/2r5/4K3 b - - 2 58 after move Ng6\n",
      "Updated board: 1r4q1/p7/3k1bNB/Pp3p2/1RP1P3/1p6/2r5/4K3 w - - 3 59 after move Bf6\n",
      "Updated board: 1r4q1/p7/3k1bNB/Pp2Pp2/1RP5/1p6/2r5/4K3 b - - 0 59 after move e5+\n",
      "Updated board: 1r4q1/p7/2k2bNB/Pp2Pp2/1RP5/1p6/2r5/4K3 w - - 1 60 after move Kc6\n",
      "Updated board: 1r4qN/p7/2k2b1B/Pp2Pp2/1RP5/1p6/2r5/4K3 b - - 2 60 after move Nh8\n",
      "Updated board: 3r2qN/p7/2k2b1B/Pp2Pp2/1RP5/1p6/2r5/4K3 w - - 3 61 after move Rd8\n",
      "Updated board: 3r2qN/p7/2k2b1B/Pp2Pp2/R1P5/1p6/2r5/4K3 b - - 4 61 after move Ra4\n",
      "Updated board: 3r2qN/p7/2k2b1B/P3Pp2/p1P5/1p6/2r5/4K3 w - - 0 62 after move bxa4\n",
      "Updated board: 3r2qN/p7/2k2b2/P3PpB1/p1P5/1p6/2r5/4K3 b - - 1 62 after move Bg5\n",
      "Updated board: 6qN/p7/2k2b2/P2rPpB1/p1P5/1p6/2r5/4K3 w - - 2 63 after move Rd5\n",
      "Updated board: 6qN/p7/2k2b2/P2PPpB1/p7/1p6/2r5/4K3 b - - 0 63 after move cxd5+\n",
      "Updated board: 6qN/p1k5/5b2/P2PPpB1/p7/1p6/2r5/4K3 w - - 1 64 after move Kc7\n",
      "Updated board: 6qN/p1k5/5b2/P2PPp2/p6B/1p6/2r5/4K3 b - - 2 64 after move Bh4\n",
      "Updated board: 6qN/p1k5/5b2/P2PPp2/p6B/8/1pr5/4K3 w - - 0 65 after move b2\n",
      "Updated board: 6qN/p1k5/5b2/P2PPp2/p7/6B1/1pr5/4K3 b - - 1 65 after move Bg3\n",
      "Updated board: 2q4N/p1k5/5b2/P2PPp2/p7/6B1/1pr5/4K3 w - - 2 66 after move Qc8\n",
      "Updated board: 2q4N/p1k5/5b2/P2PPp2/p7/8/1pr4B/4K3 b - - 3 66 after move Bh2\n",
      "Updated board: 7N/p1kq4/5b2/P2PPp2/p7/8/1pr4B/4K3 w - - 4 67 after move Qd7\n",
      "Updated board: 7N/p1kq4/5b2/P2PPp2/p7/8/1pr4B/3K4 b - - 5 67 after move Kd1\n",
      "Updated board: 7N/p1kq4/5b2/P2PPp2/p7/8/2r4B/1q1K4 w - - 0 68 after move b1=Q#\n"
     ]
    },
    {
     "ename": "InvalidMoveError",
     "evalue": "invalid san: ''",
     "output_type": "error",
     "traceback": [
      "\u001b[1;31m---------------------------------------------------------------------------\u001b[0m",
      "\u001b[1;31mInvalidMoveError\u001b[0m                          Traceback (most recent call last)",
      "Cell \u001b[1;32mIn[38], line 25\u001b[0m\n\u001b[0;32m     21\u001b[0m best_move \u001b[38;5;241m=\u001b[39m \u001b[38;5;124m'\u001b[39m\u001b[38;5;124m'\u001b[39m\n\u001b[0;32m     24\u001b[0m \u001b[38;5;28;01mfor\u001b[39;00m ply \u001b[38;5;129;01min\u001b[39;00m all_moves_array:\n\u001b[1;32m---> 25\u001b[0m     \u001b[43mboard\u001b[49m\u001b[38;5;241;43m.\u001b[39;49m\u001b[43mpush_san\u001b[49m\u001b[43m(\u001b[49m\u001b[43mply\u001b[49m\u001b[43m)\u001b[49m\n\u001b[0;32m     26\u001b[0m     fen \u001b[38;5;241m=\u001b[39m board\u001b[38;5;241m.\u001b[39mfen()\n\u001b[0;32m     27\u001b[0m     spaces_pos \u001b[38;5;241m=\u001b[39m [pos \u001b[38;5;28;01mfor\u001b[39;00m pos, char \u001b[38;5;129;01min\u001b[39;00m \u001b[38;5;28menumerate\u001b[39m(fen) \u001b[38;5;28;01mif\u001b[39;00m char \u001b[38;5;241m==\u001b[39m \u001b[38;5;124m'\u001b[39m\u001b[38;5;124m \u001b[39m\u001b[38;5;124m'\u001b[39m]\n",
      "File \u001b[1;32m~\\AppData\\Roaming\\Python\\Python312\\site-packages\\chess\\__init__.py:3105\u001b[0m, in \u001b[0;36mBoard.push_san\u001b[1;34m(self, san)\u001b[0m\n\u001b[0;32m   3091\u001b[0m \u001b[38;5;28;01mdef\u001b[39;00m \u001b[38;5;21mpush_san\u001b[39m(\u001b[38;5;28mself\u001b[39m, san: \u001b[38;5;28mstr\u001b[39m) \u001b[38;5;241m-\u001b[39m\u001b[38;5;241m>\u001b[39m Move:\n\u001b[0;32m   3092\u001b[0m \u001b[38;5;250m    \u001b[39m\u001b[38;5;124;03m\"\"\"\u001b[39;00m\n\u001b[0;32m   3093\u001b[0m \u001b[38;5;124;03m    Parses a move in standard algebraic notation, makes the move and puts\u001b[39;00m\n\u001b[0;32m   3094\u001b[0m \u001b[38;5;124;03m    it onto the move stack.\u001b[39;00m\n\u001b[1;32m   (...)\u001b[0m\n\u001b[0;32m   3103\u001b[0m \u001b[38;5;124;03m        - :exc:`AmbiguousMoveError` if the SAN is ambiguous.\u001b[39;00m\n\u001b[0;32m   3104\u001b[0m \u001b[38;5;124;03m    \"\"\"\u001b[39;00m\n\u001b[1;32m-> 3105\u001b[0m     move \u001b[38;5;241m=\u001b[39m \u001b[38;5;28;43mself\u001b[39;49m\u001b[38;5;241;43m.\u001b[39;49m\u001b[43mparse_san\u001b[49m\u001b[43m(\u001b[49m\u001b[43msan\u001b[49m\u001b[43m)\u001b[49m\n\u001b[0;32m   3106\u001b[0m     \u001b[38;5;28mself\u001b[39m\u001b[38;5;241m.\u001b[39mpush(move)\n\u001b[0;32m   3107\u001b[0m     \u001b[38;5;28;01mreturn\u001b[39;00m move\n",
      "File \u001b[1;32m~\\AppData\\Roaming\\Python\\Python312\\site-packages\\chess\\__init__.py:3037\u001b[0m, in \u001b[0;36mBoard.parse_san\u001b[1;34m(self, san)\u001b[0m\n\u001b[0;32m   3035\u001b[0m         \u001b[38;5;28;01mraise\u001b[39;00m InvalidMoveError(\u001b[38;5;124mf\u001b[39m\u001b[38;5;124m\"\u001b[39m\u001b[38;5;124munsupported multi-leg move: \u001b[39m\u001b[38;5;132;01m{\u001b[39;00msan\u001b[38;5;132;01m!r}\u001b[39;00m\u001b[38;5;124m\"\u001b[39m)\n\u001b[0;32m   3036\u001b[0m     \u001b[38;5;28;01melse\u001b[39;00m:\n\u001b[1;32m-> 3037\u001b[0m         \u001b[38;5;28;01mraise\u001b[39;00m InvalidMoveError(\u001b[38;5;124mf\u001b[39m\u001b[38;5;124m\"\u001b[39m\u001b[38;5;124minvalid san: \u001b[39m\u001b[38;5;132;01m{\u001b[39;00msan\u001b[38;5;132;01m!r}\u001b[39;00m\u001b[38;5;124m\"\u001b[39m)\n\u001b[0;32m   3039\u001b[0m \u001b[38;5;66;03m# Get target square. Mask our own pieces to exclude castling moves.\u001b[39;00m\n\u001b[0;32m   3040\u001b[0m to_square \u001b[38;5;241m=\u001b[39m SQUARE_NAMES\u001b[38;5;241m.\u001b[39mindex(match\u001b[38;5;241m.\u001b[39mgroup(\u001b[38;5;241m4\u001b[39m))\n",
      "\u001b[1;31mInvalidMoveError\u001b[0m: invalid san: ''"
     ]
    }
   ],
   "source": [
    "#board = chess.Board(\"1k1r4/pp1b1R2/3q2pp/4p3/2B5/4Q3/PPP2B2/2K5 b - - 0 1\")\n",
    "in_board_fen_array = execute_sql(\"SELECT FEN from replay_buffer WHERE game_id = 500 and ply = 0\")\n",
    "in_board_fen = (in_board_fen_array.fetchall()[0][0])\n",
    "print(in_board_fen)\n",
    "board = chess.Board(in_board_fen)\n",
    "board2 = chess.Board(in_board_fen)\n",
    "\n",
    "play_board_fen = in_board_fen\n",
    "turn = 'white'\n",
    "\n",
    "for counter in range(200):\n",
    "\n",
    "    all_moves = str(board.legal_moves)\n",
    "    start_pos = [pos for pos, char in enumerate(all_moves) if char == '(']\n",
    "    end_pos = [pos for pos, char in enumerate(all_moves) if char == ')']\n",
    "    all_moves_string= all_moves[start_pos[0]+1:end_pos[0]]\n",
    "    all_moves_string = all_moves_string.replace(\" \", \"\")\n",
    "    all_moves_array = all_moves_string.split(',')\n",
    "\n",
    "    best_reward = 0\n",
    "    best_move = ''\n",
    "\n",
    "\n",
    "    for ply in all_moves_array:\n",
    "        board.push_san(ply)\n",
    "        fen = board.fen()\n",
    "        spaces_pos = [pos for pos, char in enumerate(fen) if char == ' ']\n",
    "        search_fen = fen[:spaces_pos[3]]\n",
    "        reward_array = execute_sql(\"SELECT reward_aggregate from states WHERE FEN = '\" + search_fen + \"';\")\n",
    "        \n",
    "        try:\n",
    "            reward = (reward_array.fetchall()[0][0])\n",
    "        except:\n",
    "            reward = 0\n",
    "            \n",
    "        if turn=='white':\n",
    "            if reward >= best_reward:\n",
    "                best_reward = reward\n",
    "                best_move = ply\n",
    "        else:\n",
    "            if reward <= best_reward:\n",
    "                best_reward = reward\n",
    "                best_move = ply\n",
    "        \n",
    "        #print(\"FEN: \" + search_fen + \" reward aggregate is: \" + str(reward) + \".\")\n",
    "        board = chess.Board(play_board_fen)\n",
    "        #print(\"The best move found was: \" + best_move + \" with reward: \" + str(best_reward) + \".\")\n",
    "    \n",
    "    board.push_san(best_move)\n",
    "    board2.push_san(best_move)\n",
    "    fen = board.fen()\n",
    "    spaces_pos = [pos for pos, char in enumerate(fen) if char == ' ']\n",
    "    print(\"Updated board: \" + board2.fen() + \" after move \" + best_move)\n",
    "    play_board_fen = fen[:spaces_pos[3]]\n",
    "    if turn == 'white':\n",
    "        turn = 'black'"
   ]
  },
  {
   "cell_type": "code",
   "execution_count": 39,
   "metadata": {},
   "outputs": [
    {
     "data": {
      "text/plain": [
       "'7N/p1kq4/5b2/P2PPp2/p7/8/2r4B/1q1K4 w - - 0 68'"
      ]
     },
     "execution_count": 39,
     "metadata": {},
     "output_type": "execute_result"
    }
   ],
   "source": [
    "board2.fen()"
   ]
  },
  {
   "cell_type": "code",
   "execution_count": 40,
   "metadata": {},
   "outputs": [
    {
     "data": {
      "image/svg+xml": [
       "<svg xmlns=\"http://www.w3.org/2000/svg\" xmlns:xlink=\"http://www.w3.org/1999/xlink\" viewBox=\"0 0 390 390\" width=\"390\" height=\"390\"><desc><pre>. . . . . . . N\n",
       "p . k q . . . .\n",
       ". . . . . b . .\n",
       "P . . P P p . .\n",
       "p . . . . . . .\n",
       ". . . . . . . .\n",
       ". . r . . . . B\n",
       ". q . K . . . .</pre></desc><defs><g id=\"white-pawn\" class=\"white pawn\"><path d=\"M22.5 9c-2.21 0-4 1.79-4 4 0 .89.29 1.71.78 2.38C17.33 16.5 16 18.59 16 21c0 2.03.94 3.84 2.41 5.03-3 1.06-7.41 5.55-7.41 13.47h23c0-7.92-4.41-12.41-7.41-13.47 1.47-1.19 2.41-3 2.41-5.03 0-2.41-1.33-4.5-3.28-5.62.49-.67.78-1.49.78-2.38 0-2.21-1.79-4-4-4z\" fill=\"#fff\" stroke=\"#000\" stroke-width=\"1.5\" stroke-linecap=\"round\" /></g><g id=\"white-knight\" class=\"white knight\" fill=\"none\" fill-rule=\"evenodd\" stroke=\"#000\" stroke-width=\"1.5\" stroke-linecap=\"round\" stroke-linejoin=\"round\"><path d=\"M 22,10 C 32.5,11 38.5,18 38,39 L 15,39 C 15,30 25,32.5 23,18\" style=\"fill:#ffffff; stroke:#000000;\" /><path d=\"M 24,18 C 24.38,20.91 18.45,25.37 16,27 C 13,29 13.18,31.34 11,31 C 9.958,30.06 12.41,27.96 11,28 C 10,28 11.19,29.23 10,30 C 9,30 5.997,31 6,26 C 6,24 12,14 12,14 C 12,14 13.89,12.1 14,10.5 C 13.27,9.506 13.5,8.5 13.5,7.5 C 14.5,6.5 16.5,10 16.5,10 L 18.5,10 C 18.5,10 19.28,8.008 21,7 C 22,7 22,10 22,10\" style=\"fill:#ffffff; stroke:#000000;\" /><path d=\"M 9.5 25.5 A 0.5 0.5 0 1 1 8.5,25.5 A 0.5 0.5 0 1 1 9.5 25.5 z\" style=\"fill:#000000; stroke:#000000;\" /><path d=\"M 15 15.5 A 0.5 1.5 0 1 1 14,15.5 A 0.5 1.5 0 1 1 15 15.5 z\" transform=\"matrix(0.866,0.5,-0.5,0.866,9.693,-5.173)\" style=\"fill:#000000; stroke:#000000;\" /></g><g id=\"white-bishop\" class=\"white bishop\" fill=\"none\" fill-rule=\"evenodd\" stroke=\"#000\" stroke-width=\"1.5\" stroke-linecap=\"round\" stroke-linejoin=\"round\"><g fill=\"#fff\" stroke-linecap=\"butt\"><path d=\"M9 36c3.39-.97 10.11.43 13.5-2 3.39 2.43 10.11 1.03 13.5 2 0 0 1.65.54 3 2-.68.97-1.65.99-3 .5-3.39-.97-10.11.46-13.5-1-3.39 1.46-10.11.03-13.5 1-1.354.49-2.323.47-3-.5 1.354-1.94 3-2 3-2zM15 32c2.5 2.5 12.5 2.5 15 0 .5-1.5 0-2 0-2 0-2.5-2.5-4-2.5-4 5.5-1.5 6-11.5-5-15.5-11 4-10.5 14-5 15.5 0 0-2.5 1.5-2.5 4 0 0-.5.5 0 2zM25 8a2.5 2.5 0 1 1-5 0 2.5 2.5 0 1 1 5 0z\" /></g><path d=\"M17.5 26h10M15 30h15m-7.5-14.5v5M20 18h5\" stroke-linejoin=\"miter\" /></g><g id=\"white-king\" class=\"white king\" fill=\"none\" fill-rule=\"evenodd\" stroke=\"#000\" stroke-width=\"1.5\" stroke-linecap=\"round\" stroke-linejoin=\"round\"><path d=\"M22.5 11.63V6M20 8h5\" stroke-linejoin=\"miter\" /><path d=\"M22.5 25s4.5-7.5 3-10.5c0 0-1-2.5-3-2.5s-3 2.5-3 2.5c-1.5 3 3 10.5 3 10.5\" fill=\"#fff\" stroke-linecap=\"butt\" stroke-linejoin=\"miter\" /><path d=\"M11.5 37c5.5 3.5 15.5 3.5 21 0v-7s9-4.5 6-10.5c-4-6.5-13.5-3.5-16 4V27v-3.5c-3.5-7.5-13-10.5-16-4-3 6 5 10 5 10V37z\" fill=\"#fff\" /><path d=\"M11.5 30c5.5-3 15.5-3 21 0m-21 3.5c5.5-3 15.5-3 21 0m-21 3.5c5.5-3 15.5-3 21 0\" /></g><g id=\"black-pawn\" class=\"black pawn\"><path d=\"M22.5 9c-2.21 0-4 1.79-4 4 0 .89.29 1.71.78 2.38C17.33 16.5 16 18.59 16 21c0 2.03.94 3.84 2.41 5.03-3 1.06-7.41 5.55-7.41 13.47h23c0-7.92-4.41-12.41-7.41-13.47 1.47-1.19 2.41-3 2.41-5.03 0-2.41-1.33-4.5-3.28-5.62.49-.67.78-1.49.78-2.38 0-2.21-1.79-4-4-4z\" fill=\"#000\" stroke=\"#000\" stroke-width=\"1.5\" stroke-linecap=\"round\" /></g><g id=\"black-bishop\" class=\"black bishop\" fill=\"none\" fill-rule=\"evenodd\" stroke=\"#000\" stroke-width=\"1.5\" stroke-linecap=\"round\" stroke-linejoin=\"round\"><path d=\"M9 36c3.39-.97 10.11.43 13.5-2 3.39 2.43 10.11 1.03 13.5 2 0 0 1.65.54 3 2-.68.97-1.65.99-3 .5-3.39-.97-10.11.46-13.5-1-3.39 1.46-10.11.03-13.5 1-1.354.49-2.323.47-3-.5 1.354-1.94 3-2 3-2zm6-4c2.5 2.5 12.5 2.5 15 0 .5-1.5 0-2 0-2 0-2.5-2.5-4-2.5-4 5.5-1.5 6-11.5-5-15.5-11 4-10.5 14-5 15.5 0 0-2.5 1.5-2.5 4 0 0-.5.5 0 2zM25 8a2.5 2.5 0 1 1-5 0 2.5 2.5 0 1 1 5 0z\" fill=\"#000\" stroke-linecap=\"butt\" /><path d=\"M17.5 26h10M15 30h15m-7.5-14.5v5M20 18h5\" stroke=\"#fff\" stroke-linejoin=\"miter\" /></g><g id=\"black-rook\" class=\"black rook\" fill=\"#000\" fill-rule=\"evenodd\" stroke=\"#000\" stroke-width=\"1.5\" stroke-linecap=\"round\" stroke-linejoin=\"round\"><path d=\"M9 39h27v-3H9v3zM12.5 32l1.5-2.5h17l1.5 2.5h-20zM12 36v-4h21v4H12z\" stroke-linecap=\"butt\" /><path d=\"M14 29.5v-13h17v13H14z\" stroke-linecap=\"butt\" stroke-linejoin=\"miter\" /><path d=\"M14 16.5L11 14h23l-3 2.5H14zM11 14V9h4v2h5V9h5v2h5V9h4v5H11z\" stroke-linecap=\"butt\" /><path d=\"M12 35.5h21M13 31.5h19M14 29.5h17M14 16.5h17M11 14h23\" fill=\"none\" stroke=\"#fff\" stroke-width=\"1\" stroke-linejoin=\"miter\" /></g><g id=\"black-queen\" class=\"black queen\" fill=\"#000\" fill-rule=\"evenodd\" stroke=\"#000\" stroke-width=\"1.5\" stroke-linecap=\"round\" stroke-linejoin=\"round\"><g fill=\"#000\" stroke=\"none\"><circle cx=\"6\" cy=\"12\" r=\"2.75\" /><circle cx=\"14\" cy=\"9\" r=\"2.75\" /><circle cx=\"22.5\" cy=\"8\" r=\"2.75\" /><circle cx=\"31\" cy=\"9\" r=\"2.75\" /><circle cx=\"39\" cy=\"12\" r=\"2.75\" /></g><path d=\"M9 26c8.5-1.5 21-1.5 27 0l2.5-12.5L31 25l-.3-14.1-5.2 13.6-3-14.5-3 14.5-5.2-13.6L14 25 6.5 13.5 9 26zM9 26c0 2 1.5 2 2.5 4 1 1.5 1 1 .5 3.5-1.5 1-1.5 2.5-1.5 2.5-1.5 1.5.5 2.5.5 2.5 6.5 1 16.5 1 23 0 0 0 1.5-1 0-2.5 0 0 .5-1.5-1-2.5-.5-2.5-.5-2 .5-3.5 1-2 2.5-2 2.5-4-8.5-1.5-18.5-1.5-27 0z\" stroke-linecap=\"butt\" /><path d=\"M11 38.5a35 35 1 0 0 23 0\" fill=\"none\" stroke-linecap=\"butt\" /><path d=\"M11 29a35 35 1 0 1 23 0M12.5 31.5h20M11.5 34.5a35 35 1 0 0 22 0M10.5 37.5a35 35 1 0 0 24 0\" fill=\"none\" stroke=\"#fff\" /></g><g id=\"black-king\" class=\"black king\" fill=\"none\" fill-rule=\"evenodd\" stroke=\"#000\" stroke-width=\"1.5\" stroke-linecap=\"round\" stroke-linejoin=\"round\"><path d=\"M22.5 11.63V6\" stroke-linejoin=\"miter\" /><path d=\"M22.5 25s4.5-7.5 3-10.5c0 0-1-2.5-3-2.5s-3 2.5-3 2.5c-1.5 3 3 10.5 3 10.5\" fill=\"#000\" stroke-linecap=\"butt\" stroke-linejoin=\"miter\" /><path d=\"M11.5 37c5.5 3.5 15.5 3.5 21 0v-7s9-4.5 6-10.5c-4-6.5-13.5-3.5-16 4V27v-3.5c-3.5-7.5-13-10.5-16-4-3 6 5 10 5 10V37z\" fill=\"#000\" /><path d=\"M20 8h5\" stroke-linejoin=\"miter\" /><path d=\"M32 29.5s8.5-4 6.03-9.65C34.15 14 25 18 22.5 24.5l.01 2.1-.01-2.1C20 18 9.906 14 6.997 19.85c-2.497 5.65 4.853 9 4.853 9M11.5 30c5.5-3 15.5-3 21 0m-21 3.5c5.5-3 15.5-3 21 0m-21 3.5c5.5-3 15.5-3 21 0\" stroke=\"#fff\" /></g><radialGradient id=\"check_gradient\" r=\"0.5\"><stop offset=\"0%\" stop-color=\"#ff0000\" stop-opacity=\"1.0\" /><stop offset=\"50%\" stop-color=\"#e70000\" stop-opacity=\"1.0\" /><stop offset=\"100%\" stop-color=\"#9e0000\" stop-opacity=\"0.0\" /></radialGradient></defs><rect x=\"7.5\" y=\"7.5\" width=\"375\" height=\"375\" fill=\"none\" stroke=\"#212121\" stroke-width=\"15\" /><g transform=\"translate(20, 1) scale(0.75, 0.75)\" fill=\"#e5e5e5\" stroke=\"#e5e5e5\"><path d=\"M23.328 10.016q-1.742 0-2.414.398-.672.398-.672 1.36 0 .765.5 1.218.508.445 1.375.445 1.196 0 1.914-.843.727-.852.727-2.258v-.32zm2.867-.594v4.992h-1.437v-1.328q-.492.797-1.227 1.18-.734.375-1.797.375-1.343 0-2.14-.75-.79-.758-.79-2.024 0-1.476.985-2.226.992-.75 2.953-.75h2.016V8.75q0-.992-.656-1.531-.649-.547-1.829-.547-.75 0-1.46.18-.711.18-1.368.539V6.062q.79-.304 1.532-.453.742-.156 1.445-.156 1.898 0 2.836.984.937.985.937 2.985z\" /></g><g transform=\"translate(20, 375) scale(0.75, 0.75)\" fill=\"#e5e5e5\" stroke=\"#e5e5e5\"><path d=\"M23.328 10.016q-1.742 0-2.414.398-.672.398-.672 1.36 0 .765.5 1.218.508.445 1.375.445 1.196 0 1.914-.843.727-.852.727-2.258v-.32zm2.867-.594v4.992h-1.437v-1.328q-.492.797-1.227 1.18-.734.375-1.797.375-1.343 0-2.14-.75-.79-.758-.79-2.024 0-1.476.985-2.226.992-.75 2.953-.75h2.016V8.75q0-.992-.656-1.531-.649-.547-1.829-.547-.75 0-1.46.18-.711.18-1.368.539V6.062q.79-.304 1.532-.453.742-.156 1.445-.156 1.898 0 2.836.984.937.985.937 2.985z\" /></g><g transform=\"translate(65, 1) scale(0.75, 0.75)\" fill=\"#e5e5e5\" stroke=\"#e5e5e5\"><path d=\"M24.922 10.047q0-1.586-.656-2.485-.649-.906-1.79-.906-1.14 0-1.796.906-.649.899-.649 2.485 0 1.586.649 2.492.656.898 1.797.898 1.14 0 1.789-.898.656-.906.656-2.492zm-4.89-3.055q.452-.781 1.14-1.156.695-.383 1.656-.383 1.594 0 2.586 1.266 1 1.265 1 3.328 0 2.062-1 3.328-.992 1.266-2.586 1.266-.96 0-1.656-.375-.688-.383-1.14-1.164v1.312h-1.446V2.258h1.445z\" /></g><g transform=\"translate(65, 375) scale(0.75, 0.75)\" fill=\"#e5e5e5\" stroke=\"#e5e5e5\"><path d=\"M24.922 10.047q0-1.586-.656-2.485-.649-.906-1.79-.906-1.14 0-1.796.906-.649.899-.649 2.485 0 1.586.649 2.492.656.898 1.797.898 1.14 0 1.789-.898.656-.906.656-2.492zm-4.89-3.055q.452-.781 1.14-1.156.695-.383 1.656-.383 1.594 0 2.586 1.266 1 1.265 1 3.328 0 2.062-1 3.328-.992 1.266-2.586 1.266-.96 0-1.656-.375-.688-.383-1.14-1.164v1.312h-1.446V2.258h1.445z\" /></g><g transform=\"translate(110, 1) scale(0.75, 0.75)\" fill=\"#e5e5e5\" stroke=\"#e5e5e5\"><path d=\"M25.96 6v1.344q-.608-.336-1.226-.5-.609-.172-1.234-.172-1.398 0-2.172.89-.773.883-.773 2.485 0 1.601.773 2.492.774.883 2.172.883.625 0 1.234-.164.618-.172 1.227-.508v1.328q-.602.281-1.25.422-.64.14-1.367.14-1.977 0-3.14-1.242-1.165-1.242-1.165-3.351 0-2.14 1.172-3.367 1.18-1.227 3.227-1.227.664 0 1.296.14.633.134 1.227.407z\" /></g><g transform=\"translate(110, 375) scale(0.75, 0.75)\" fill=\"#e5e5e5\" stroke=\"#e5e5e5\"><path d=\"M25.96 6v1.344q-.608-.336-1.226-.5-.609-.172-1.234-.172-1.398 0-2.172.89-.773.883-.773 2.485 0 1.601.773 2.492.774.883 2.172.883.625 0 1.234-.164.618-.172 1.227-.508v1.328q-.602.281-1.25.422-.64.14-1.367.14-1.977 0-3.14-1.242-1.165-1.242-1.165-3.351 0-2.14 1.172-3.367 1.18-1.227 3.227-1.227.664 0 1.296.14.633.134 1.227.407z\" /></g><g transform=\"translate(155, 1) scale(0.75, 0.75)\" fill=\"#e5e5e5\" stroke=\"#e5e5e5\"><path d=\"M24.973 6.992V2.258h1.437v12.156h-1.437v-1.312q-.453.78-1.149 1.164-.687.375-1.656.375-1.586 0-2.586-1.266-.992-1.266-.992-3.328 0-2.063.992-3.328 1-1.266 2.586-1.266.969 0 1.656.383.696.375 1.149 1.156zm-4.899 3.055q0 1.586.649 2.492.656.898 1.797.898 1.14 0 1.796-.898.657-.906.657-2.492 0-1.586-.657-2.485-.656-.906-1.796-.906-1.141 0-1.797.906-.649.899-.649 2.485z\" /></g><g transform=\"translate(155, 375) scale(0.75, 0.75)\" fill=\"#e5e5e5\" stroke=\"#e5e5e5\"><path d=\"M24.973 6.992V2.258h1.437v12.156h-1.437v-1.312q-.453.78-1.149 1.164-.687.375-1.656.375-1.586 0-2.586-1.266-.992-1.266-.992-3.328 0-2.063.992-3.328 1-1.266 2.586-1.266.969 0 1.656.383.696.375 1.149 1.156zm-4.899 3.055q0 1.586.649 2.492.656.898 1.797.898 1.14 0 1.796-.898.657-.906.657-2.492 0-1.586-.657-2.485-.656-.906-1.796-.906-1.141 0-1.797.906-.649.899-.649 2.485z\" /></g><g transform=\"translate(200, 1) scale(0.75, 0.75)\" fill=\"#e5e5e5\" stroke=\"#e5e5e5\"><path d=\"M26.555 9.68v.703h-6.61q.094 1.484.89 2.265.806.774 2.235.774.828 0 1.602-.203.781-.203 1.547-.61v1.36q-.774.328-1.586.5-.813.172-1.649.172-2.093 0-3.32-1.22-1.219-1.218-1.219-3.296 0-2.148 1.157-3.406 1.164-1.266 3.132-1.266 1.766 0 2.79 1.14 1.03 1.134 1.03 3.087zm-1.438-.422q-.015-1.18-.664-1.883-.64-.703-1.703-.703-1.203 0-1.93.68-.718.68-.828 1.914z\" /></g><g transform=\"translate(200, 375) scale(0.75, 0.75)\" fill=\"#e5e5e5\" stroke=\"#e5e5e5\"><path d=\"M26.555 9.68v.703h-6.61q.094 1.484.89 2.265.806.774 2.235.774.828 0 1.602-.203.781-.203 1.547-.61v1.36q-.774.328-1.586.5-.813.172-1.649.172-2.093 0-3.32-1.22-1.219-1.218-1.219-3.296 0-2.148 1.157-3.406 1.164-1.266 3.132-1.266 1.766 0 2.79 1.14 1.03 1.134 1.03 3.087zm-1.438-.422q-.015-1.18-.664-1.883-.64-.703-1.703-.703-1.203 0-1.93.68-.718.68-.828 1.914z\" /></g><g transform=\"translate(245, 1) scale(0.75, 0.75)\" fill=\"#e5e5e5\" stroke=\"#e5e5e5\"><path d=\"M25.285 2.258v1.195H23.91q-.773 0-1.078.313-.297.312-.297 1.125v.773h2.367v1.117h-2.367v7.633H21.09V6.781h-1.375V5.664h1.375v-.61q0-1.46.68-2.124.68-.672 2.156-.672z\" /></g><g transform=\"translate(245, 375) scale(0.75, 0.75)\" fill=\"#e5e5e5\" stroke=\"#e5e5e5\"><path d=\"M25.285 2.258v1.195H23.91q-.773 0-1.078.313-.297.312-.297 1.125v.773h2.367v1.117h-2.367v7.633H21.09V6.781h-1.375V5.664h1.375v-.61q0-1.46.68-2.124.68-.672 2.156-.672z\" /></g><g transform=\"translate(290, 1) scale(0.75, 0.75)\" fill=\"#e5e5e5\" stroke=\"#e5e5e5\"><path d=\"M24.973 9.937q0-1.562-.649-2.421-.64-.86-1.804-.86-1.157 0-1.805.86-.64.859-.64 2.421 0 1.555.64 2.415.648.859 1.805.859 1.164 0 1.804-.86.649-.859.649-2.414zm1.437 3.391q0 2.234-.992 3.32-.992 1.094-3.04 1.094-.757 0-1.429-.117-.672-.11-1.304-.344v-1.398q.632.344 1.25.508.617.164 1.257.164 1.414 0 2.118-.743.703-.734.703-2.226v-.711q-.446.773-1.141 1.156-.695.383-1.664.383-1.61 0-2.594-1.227-.984-1.226-.984-3.25 0-2.03.984-3.257.985-1.227 2.594-1.227.969 0 1.664.383t1.14 1.156V5.664h1.438z\" /></g><g transform=\"translate(290, 375) scale(0.75, 0.75)\" fill=\"#e5e5e5\" stroke=\"#e5e5e5\"><path d=\"M24.973 9.937q0-1.562-.649-2.421-.64-.86-1.804-.86-1.157 0-1.805.86-.64.859-.64 2.421 0 1.555.64 2.415.648.859 1.805.859 1.164 0 1.804-.86.649-.859.649-2.414zm1.437 3.391q0 2.234-.992 3.32-.992 1.094-3.04 1.094-.757 0-1.429-.117-.672-.11-1.304-.344v-1.398q.632.344 1.25.508.617.164 1.257.164 1.414 0 2.118-.743.703-.734.703-2.226v-.711q-.446.773-1.141 1.156-.695.383-1.664.383-1.61 0-2.594-1.227-.984-1.226-.984-3.25 0-2.03.984-3.257.985-1.227 2.594-1.227.969 0 1.664.383t1.14 1.156V5.664h1.438z\" /></g><g transform=\"translate(335, 1) scale(0.75, 0.75)\" fill=\"#e5e5e5\" stroke=\"#e5e5e5\"><path d=\"M26.164 9.133v5.281h-1.437V9.18q0-1.243-.485-1.86-.484-.617-1.453-.617-1.164 0-1.836.742-.672.742-.672 2.024v4.945h-1.445V2.258h1.445v4.765q.516-.789 1.211-1.18.703-.39 1.617-.39 1.508 0 2.282.938.773.93.773 2.742z\" /></g><g transform=\"translate(335, 375) scale(0.75, 0.75)\" fill=\"#e5e5e5\" stroke=\"#e5e5e5\"><path d=\"M26.164 9.133v5.281h-1.437V9.18q0-1.243-.485-1.86-.484-.617-1.453-.617-1.164 0-1.836.742-.672.742-.672 2.024v4.945h-1.445V2.258h1.445v4.765q.516-.789 1.211-1.18.703-.39 1.617-.39 1.508 0 2.282.938.773.93.773 2.742z\" /></g><g transform=\"translate(0, 335) scale(0.75, 0.75)\" fill=\"#e5e5e5\" stroke=\"#e5e5e5\"><path d=\"M6.754 26.996h2.578v-8.898l-2.805.562v-1.437l2.79-.563h1.578v10.336h2.578v1.328h-6.72z\" /></g><g transform=\"translate(375, 335) scale(0.75, 0.75)\" fill=\"#e5e5e5\" stroke=\"#e5e5e5\"><path d=\"M6.754 26.996h2.578v-8.898l-2.805.562v-1.437l2.79-.563h1.578v10.336h2.578v1.328h-6.72z\" /></g><g transform=\"translate(0, 290) scale(0.75, 0.75)\" fill=\"#e5e5e5\" stroke=\"#e5e5e5\"><path d=\"M8.195 26.996h5.508v1.328H6.297v-1.328q.898-.93 2.445-2.492 1.555-1.57 1.953-2.024.758-.851 1.055-1.437.305-.594.305-1.164 0-.93-.657-1.516-.648-.586-1.695-.586-.742 0-1.57.258-.82.258-1.758.781v-1.593q.953-.383 1.781-.578.828-.196 1.516-.196 1.812 0 2.89.906 1.079.907 1.079 2.422 0 .72-.274 1.368-.265.64-.976 1.515-.196.227-1.243 1.313-1.046 1.078-2.953 3.023z\" /></g><g transform=\"translate(375, 290) scale(0.75, 0.75)\" fill=\"#e5e5e5\" stroke=\"#e5e5e5\"><path d=\"M8.195 26.996h5.508v1.328H6.297v-1.328q.898-.93 2.445-2.492 1.555-1.57 1.953-2.024.758-.851 1.055-1.437.305-.594.305-1.164 0-.93-.657-1.516-.648-.586-1.695-.586-.742 0-1.57.258-.82.258-1.758.781v-1.593q.953-.383 1.781-.578.828-.196 1.516-.196 1.812 0 2.89.906 1.079.907 1.079 2.422 0 .72-.274 1.368-.265.64-.976 1.515-.196.227-1.243 1.313-1.046 1.078-2.953 3.023z\" /></g><g transform=\"translate(0, 245) scale(0.75, 0.75)\" fill=\"#e5e5e5\" stroke=\"#e5e5e5\"><path d=\"M11.434 22.035q1.132.242 1.765 1.008.64.766.64 1.89 0 1.727-1.187 2.672-1.187.946-3.375.946-.734 0-1.515-.149-.774-.14-1.602-.43V26.45q.656.383 1.438.578.78.196 1.632.196 1.485 0 2.258-.586.782-.586.782-1.703 0-1.032-.727-1.61-.719-.586-2.008-.586h-1.36v-1.297h1.423q1.164 0 1.78-.46.618-.47.618-1.344 0-.899-.64-1.375-.633-.485-1.82-.485-.65 0-1.391.141-.743.14-1.633.437V16.95q.898-.25 1.68-.375.788-.125 1.484-.125 1.797 0 2.844.82 1.046.813 1.046 2.204 0 .968-.554 1.64-.555.664-1.578.922z\" /></g><g transform=\"translate(375, 245) scale(0.75, 0.75)\" fill=\"#e5e5e5\" stroke=\"#e5e5e5\"><path d=\"M11.434 22.035q1.132.242 1.765 1.008.64.766.64 1.89 0 1.727-1.187 2.672-1.187.946-3.375.946-.734 0-1.515-.149-.774-.14-1.602-.43V26.45q.656.383 1.438.578.78.196 1.632.196 1.485 0 2.258-.586.782-.586.782-1.703 0-1.032-.727-1.61-.719-.586-2.008-.586h-1.36v-1.297h1.423q1.164 0 1.78-.46.618-.47.618-1.344 0-.899-.64-1.375-.633-.485-1.82-.485-.65 0-1.391.141-.743.14-1.633.437V16.95q.898-.25 1.68-.375.788-.125 1.484-.125 1.797 0 2.844.82 1.046.813 1.046 2.204 0 .968-.554 1.64-.555.664-1.578.922z\" /></g><g transform=\"translate(0, 200) scale(0.75, 0.75)\" fill=\"#e5e5e5\" stroke=\"#e5e5e5\"><path d=\"M11.016 18.035L7.03 24.262h3.985zm-.414-1.375h1.984v7.602h1.664v1.312h-1.664v2.75h-1.57v-2.75H5.75v-1.523z\" /></g><g transform=\"translate(375, 200) scale(0.75, 0.75)\" fill=\"#e5e5e5\" stroke=\"#e5e5e5\"><path d=\"M11.016 18.035L7.03 24.262h3.985zm-.414-1.375h1.984v7.602h1.664v1.312h-1.664v2.75h-1.57v-2.75H5.75v-1.523z\" /></g><g transform=\"translate(0, 155) scale(0.75, 0.75)\" fill=\"#e5e5e5\" stroke=\"#e5e5e5\"><path d=\"M6.719 16.66h6.195v1.328h-4.75v2.86q.344-.118.688-.172.343-.063.687-.063 1.953 0 3.094 1.07 1.14 1.07 1.14 2.899 0 1.883-1.171 2.93-1.172 1.039-3.305 1.039-.735 0-1.5-.125-.758-.125-1.57-.375v-1.586q.703.383 1.453.57.75.188 1.586.188 1.351 0 2.14-.711.79-.711.79-1.93 0-1.219-.79-1.93-.789-.71-2.14-.71-.633 0-1.266.14-.625.14-1.281.438z\" /></g><g transform=\"translate(375, 155) scale(0.75, 0.75)\" fill=\"#e5e5e5\" stroke=\"#e5e5e5\"><path d=\"M6.719 16.66h6.195v1.328h-4.75v2.86q.344-.118.688-.172.343-.063.687-.063 1.953 0 3.094 1.07 1.14 1.07 1.14 2.899 0 1.883-1.171 2.93-1.172 1.039-3.305 1.039-.735 0-1.5-.125-.758-.125-1.57-.375v-1.586q.703.383 1.453.57.75.188 1.586.188 1.351 0 2.14-.711.79-.711.79-1.93 0-1.219-.79-1.93-.789-.71-2.14-.71-.633 0-1.266.14-.625.14-1.281.438z\" /></g><g transform=\"translate(0, 110) scale(0.75, 0.75)\" fill=\"#e5e5e5\" stroke=\"#e5e5e5\"><path d=\"M10.137 21.863q-1.063 0-1.688.727-.617.726-.617 1.992 0 1.258.617 1.992.625.727 1.688.727 1.062 0 1.68-.727.624-.734.624-1.992 0-1.266-.625-1.992-.617-.727-1.68-.727zm3.133-4.945v1.437q-.594-.28-1.204-.43-.601-.148-1.195-.148-1.562 0-2.39 1.055-.82 1.055-.938 3.188.46-.68 1.156-1.04.696-.367 1.531-.367 1.758 0 2.774 1.07 1.023 1.063 1.023 2.899 0 1.797-1.062 2.883-1.063 1.086-2.828 1.086-2.024 0-3.094-1.547-1.07-1.555-1.07-4.5 0-2.766 1.312-4.406 1.313-1.649 3.524-1.649.593 0 1.195.117.61.118 1.266.352z\" /></g><g transform=\"translate(375, 110) scale(0.75, 0.75)\" fill=\"#e5e5e5\" stroke=\"#e5e5e5\"><path d=\"M10.137 21.863q-1.063 0-1.688.727-.617.726-.617 1.992 0 1.258.617 1.992.625.727 1.688.727 1.062 0 1.68-.727.624-.734.624-1.992 0-1.266-.625-1.992-.617-.727-1.68-.727zm3.133-4.945v1.437q-.594-.28-1.204-.43-.601-.148-1.195-.148-1.562 0-2.39 1.055-.82 1.055-.938 3.188.46-.68 1.156-1.04.696-.367 1.531-.367 1.758 0 2.774 1.07 1.023 1.063 1.023 2.899 0 1.797-1.062 2.883-1.063 1.086-2.828 1.086-2.024 0-3.094-1.547-1.07-1.555-1.07-4.5 0-2.766 1.312-4.406 1.313-1.649 3.524-1.649.593 0 1.195.117.61.118 1.266.352z\" /></g><g transform=\"translate(0, 65) scale(0.75, 0.75)\" fill=\"#e5e5e5\" stroke=\"#e5e5e5\"><path d=\"M6.25 16.66h7.5v.672L9.516 28.324H7.867l3.985-10.336H6.25z\" /></g><g transform=\"translate(375, 65) scale(0.75, 0.75)\" fill=\"#e5e5e5\" stroke=\"#e5e5e5\"><path d=\"M6.25 16.66h7.5v.672L9.516 28.324H7.867l3.985-10.336H6.25z\" /></g><g transform=\"translate(0, 20) scale(0.75, 0.75)\" fill=\"#e5e5e5\" stroke=\"#e5e5e5\"><path d=\"M10 22.785q-1.125 0-1.773.602-.641.601-.641 1.656t.64 1.656q.649.602 1.774.602t1.773-.602q.649-.61.649-1.656 0-1.055-.649-1.656-.64-.602-1.773-.602zm-1.578-.672q-1.016-.25-1.586-.945-.563-.695-.563-1.695 0-1.399.993-2.211 1-.813 2.734-.813 1.742 0 2.734.813.993.812.993 2.21 0 1-.57 1.696-.563.695-1.571.945 1.14.266 1.773 1.04.641.773.641 1.89 0 1.695-1.04 2.602-1.03.906-2.96.906t-2.969-.906Q6 26.738 6 25.043q0-1.117.64-1.89.641-.774 1.782-1.04zm-.578-2.492q0 .906.562 1.414.57.508 1.594.508 1.016 0 1.586-.508.578-.508.578-1.414 0-.906-.578-1.414-.57-.508-1.586-.508-1.023 0-1.594.508-.562.508-.562 1.414z\" /></g><g transform=\"translate(375, 20) scale(0.75, 0.75)\" fill=\"#e5e5e5\" stroke=\"#e5e5e5\"><path d=\"M10 22.785q-1.125 0-1.773.602-.641.601-.641 1.656t.64 1.656q.649.602 1.774.602t1.773-.602q.649-.61.649-1.656 0-1.055-.649-1.656-.64-.602-1.773-.602zm-1.578-.672q-1.016-.25-1.586-.945-.563-.695-.563-1.695 0-1.399.993-2.211 1-.813 2.734-.813 1.742 0 2.734.813.993.812.993 2.21 0 1-.57 1.696-.563.695-1.571.945 1.14.266 1.773 1.04.641.773.641 1.89 0 1.695-1.04 2.602-1.03.906-2.96.906t-2.969-.906Q6 26.738 6 25.043q0-1.117.64-1.89.641-.774 1.782-1.04zm-.578-2.492q0 .906.562 1.414.57.508 1.594.508 1.016 0 1.586-.508.578-.508.578-1.414 0-.906-.578-1.414-.57-.508-1.586-.508-1.023 0-1.594.508-.562.508-.562 1.414z\" /></g><rect x=\"15\" y=\"330\" width=\"45\" height=\"45\" class=\"square dark a1\" stroke=\"none\" fill=\"#d18b47\" /><rect x=\"60\" y=\"330\" width=\"45\" height=\"45\" class=\"square light lastmove b1\" stroke=\"none\" fill=\"#cdd16a\" /><rect x=\"105\" y=\"330\" width=\"45\" height=\"45\" class=\"square dark c1\" stroke=\"none\" fill=\"#d18b47\" /><rect x=\"150\" y=\"330\" width=\"45\" height=\"45\" class=\"square light d1\" stroke=\"none\" fill=\"#ffce9e\" /><rect x=\"195\" y=\"330\" width=\"45\" height=\"45\" class=\"square dark e1\" stroke=\"none\" fill=\"#d18b47\" /><rect x=\"240\" y=\"330\" width=\"45\" height=\"45\" class=\"square light f1\" stroke=\"none\" fill=\"#ffce9e\" /><rect x=\"285\" y=\"330\" width=\"45\" height=\"45\" class=\"square dark g1\" stroke=\"none\" fill=\"#d18b47\" /><rect x=\"330\" y=\"330\" width=\"45\" height=\"45\" class=\"square light h1\" stroke=\"none\" fill=\"#ffce9e\" /><rect x=\"15\" y=\"285\" width=\"45\" height=\"45\" class=\"square light a2\" stroke=\"none\" fill=\"#ffce9e\" /><rect x=\"60\" y=\"285\" width=\"45\" height=\"45\" class=\"square dark lastmove b2\" stroke=\"none\" fill=\"#aaa23b\" /><rect x=\"105\" y=\"285\" width=\"45\" height=\"45\" class=\"square light c2\" stroke=\"none\" fill=\"#ffce9e\" /><rect x=\"150\" y=\"285\" width=\"45\" height=\"45\" class=\"square dark d2\" stroke=\"none\" fill=\"#d18b47\" /><rect x=\"195\" y=\"285\" width=\"45\" height=\"45\" class=\"square light e2\" stroke=\"none\" fill=\"#ffce9e\" /><rect x=\"240\" y=\"285\" width=\"45\" height=\"45\" class=\"square dark f2\" stroke=\"none\" fill=\"#d18b47\" /><rect x=\"285\" y=\"285\" width=\"45\" height=\"45\" class=\"square light g2\" stroke=\"none\" fill=\"#ffce9e\" /><rect x=\"330\" y=\"285\" width=\"45\" height=\"45\" class=\"square dark h2\" stroke=\"none\" fill=\"#d18b47\" /><rect x=\"15\" y=\"240\" width=\"45\" height=\"45\" class=\"square dark a3\" stroke=\"none\" fill=\"#d18b47\" /><rect x=\"60\" y=\"240\" width=\"45\" height=\"45\" class=\"square light b3\" stroke=\"none\" fill=\"#ffce9e\" /><rect x=\"105\" y=\"240\" width=\"45\" height=\"45\" class=\"square dark c3\" stroke=\"none\" fill=\"#d18b47\" /><rect x=\"150\" y=\"240\" width=\"45\" height=\"45\" class=\"square light d3\" stroke=\"none\" fill=\"#ffce9e\" /><rect x=\"195\" y=\"240\" width=\"45\" height=\"45\" class=\"square dark e3\" stroke=\"none\" fill=\"#d18b47\" /><rect x=\"240\" y=\"240\" width=\"45\" height=\"45\" class=\"square light f3\" stroke=\"none\" fill=\"#ffce9e\" /><rect x=\"285\" y=\"240\" width=\"45\" height=\"45\" class=\"square dark g3\" stroke=\"none\" fill=\"#d18b47\" /><rect x=\"330\" y=\"240\" width=\"45\" height=\"45\" class=\"square light h3\" stroke=\"none\" fill=\"#ffce9e\" /><rect x=\"15\" y=\"195\" width=\"45\" height=\"45\" class=\"square light a4\" stroke=\"none\" fill=\"#ffce9e\" /><rect x=\"60\" y=\"195\" width=\"45\" height=\"45\" class=\"square dark b4\" stroke=\"none\" fill=\"#d18b47\" /><rect x=\"105\" y=\"195\" width=\"45\" height=\"45\" class=\"square light c4\" stroke=\"none\" fill=\"#ffce9e\" /><rect x=\"150\" y=\"195\" width=\"45\" height=\"45\" class=\"square dark d4\" stroke=\"none\" fill=\"#d18b47\" /><rect x=\"195\" y=\"195\" width=\"45\" height=\"45\" class=\"square light e4\" stroke=\"none\" fill=\"#ffce9e\" /><rect x=\"240\" y=\"195\" width=\"45\" height=\"45\" class=\"square dark f4\" stroke=\"none\" fill=\"#d18b47\" /><rect x=\"285\" y=\"195\" width=\"45\" height=\"45\" class=\"square light g4\" stroke=\"none\" fill=\"#ffce9e\" /><rect x=\"330\" y=\"195\" width=\"45\" height=\"45\" class=\"square dark h4\" stroke=\"none\" fill=\"#d18b47\" /><rect x=\"15\" y=\"150\" width=\"45\" height=\"45\" class=\"square dark a5\" stroke=\"none\" fill=\"#d18b47\" /><rect x=\"60\" y=\"150\" width=\"45\" height=\"45\" class=\"square light b5\" stroke=\"none\" fill=\"#ffce9e\" /><rect x=\"105\" y=\"150\" width=\"45\" height=\"45\" class=\"square dark c5\" stroke=\"none\" fill=\"#d18b47\" /><rect x=\"150\" y=\"150\" width=\"45\" height=\"45\" class=\"square light d5\" stroke=\"none\" fill=\"#ffce9e\" /><rect x=\"195\" y=\"150\" width=\"45\" height=\"45\" class=\"square dark e5\" stroke=\"none\" fill=\"#d18b47\" /><rect x=\"240\" y=\"150\" width=\"45\" height=\"45\" class=\"square light f5\" stroke=\"none\" fill=\"#ffce9e\" /><rect x=\"285\" y=\"150\" width=\"45\" height=\"45\" class=\"square dark g5\" stroke=\"none\" fill=\"#d18b47\" /><rect x=\"330\" y=\"150\" width=\"45\" height=\"45\" class=\"square light h5\" stroke=\"none\" fill=\"#ffce9e\" /><rect x=\"15\" y=\"105\" width=\"45\" height=\"45\" class=\"square light a6\" stroke=\"none\" fill=\"#ffce9e\" /><rect x=\"60\" y=\"105\" width=\"45\" height=\"45\" class=\"square dark b6\" stroke=\"none\" fill=\"#d18b47\" /><rect x=\"105\" y=\"105\" width=\"45\" height=\"45\" class=\"square light c6\" stroke=\"none\" fill=\"#ffce9e\" /><rect x=\"150\" y=\"105\" width=\"45\" height=\"45\" class=\"square dark d6\" stroke=\"none\" fill=\"#d18b47\" /><rect x=\"195\" y=\"105\" width=\"45\" height=\"45\" class=\"square light e6\" stroke=\"none\" fill=\"#ffce9e\" /><rect x=\"240\" y=\"105\" width=\"45\" height=\"45\" class=\"square dark f6\" stroke=\"none\" fill=\"#d18b47\" /><rect x=\"285\" y=\"105\" width=\"45\" height=\"45\" class=\"square light g6\" stroke=\"none\" fill=\"#ffce9e\" /><rect x=\"330\" y=\"105\" width=\"45\" height=\"45\" class=\"square dark h6\" stroke=\"none\" fill=\"#d18b47\" /><rect x=\"15\" y=\"60\" width=\"45\" height=\"45\" class=\"square dark a7\" stroke=\"none\" fill=\"#d18b47\" /><rect x=\"60\" y=\"60\" width=\"45\" height=\"45\" class=\"square light b7\" stroke=\"none\" fill=\"#ffce9e\" /><rect x=\"105\" y=\"60\" width=\"45\" height=\"45\" class=\"square dark c7\" stroke=\"none\" fill=\"#d18b47\" /><rect x=\"150\" y=\"60\" width=\"45\" height=\"45\" class=\"square light d7\" stroke=\"none\" fill=\"#ffce9e\" /><rect x=\"195\" y=\"60\" width=\"45\" height=\"45\" class=\"square dark e7\" stroke=\"none\" fill=\"#d18b47\" /><rect x=\"240\" y=\"60\" width=\"45\" height=\"45\" class=\"square light f7\" stroke=\"none\" fill=\"#ffce9e\" /><rect x=\"285\" y=\"60\" width=\"45\" height=\"45\" class=\"square dark g7\" stroke=\"none\" fill=\"#d18b47\" /><rect x=\"330\" y=\"60\" width=\"45\" height=\"45\" class=\"square light h7\" stroke=\"none\" fill=\"#ffce9e\" /><rect x=\"15\" y=\"15\" width=\"45\" height=\"45\" class=\"square light a8\" stroke=\"none\" fill=\"#ffce9e\" /><rect x=\"60\" y=\"15\" width=\"45\" height=\"45\" class=\"square dark b8\" stroke=\"none\" fill=\"#d18b47\" /><rect x=\"105\" y=\"15\" width=\"45\" height=\"45\" class=\"square light c8\" stroke=\"none\" fill=\"#ffce9e\" /><rect x=\"150\" y=\"15\" width=\"45\" height=\"45\" class=\"square dark d8\" stroke=\"none\" fill=\"#d18b47\" /><rect x=\"195\" y=\"15\" width=\"45\" height=\"45\" class=\"square light e8\" stroke=\"none\" fill=\"#ffce9e\" /><rect x=\"240\" y=\"15\" width=\"45\" height=\"45\" class=\"square dark f8\" stroke=\"none\" fill=\"#d18b47\" /><rect x=\"285\" y=\"15\" width=\"45\" height=\"45\" class=\"square light g8\" stroke=\"none\" fill=\"#ffce9e\" /><rect x=\"330\" y=\"15\" width=\"45\" height=\"45\" class=\"square dark h8\" stroke=\"none\" fill=\"#d18b47\" /><rect x=\"150\" y=\"330\" width=\"45\" height=\"45\" class=\"check\" fill=\"url(#check_gradient)\" /><use href=\"#black-queen\" xlink:href=\"#black-queen\" transform=\"translate(60, 330)\" /><use href=\"#white-king\" xlink:href=\"#white-king\" transform=\"translate(150, 330)\" /><use href=\"#black-rook\" xlink:href=\"#black-rook\" transform=\"translate(105, 285)\" /><use href=\"#white-bishop\" xlink:href=\"#white-bishop\" transform=\"translate(330, 285)\" /><use href=\"#black-pawn\" xlink:href=\"#black-pawn\" transform=\"translate(15, 195)\" /><use href=\"#white-pawn\" xlink:href=\"#white-pawn\" transform=\"translate(15, 150)\" /><use href=\"#white-pawn\" xlink:href=\"#white-pawn\" transform=\"translate(150, 150)\" /><use href=\"#white-pawn\" xlink:href=\"#white-pawn\" transform=\"translate(195, 150)\" /><use href=\"#black-pawn\" xlink:href=\"#black-pawn\" transform=\"translate(240, 150)\" /><use href=\"#black-bishop\" xlink:href=\"#black-bishop\" transform=\"translate(240, 105)\" /><use href=\"#black-pawn\" xlink:href=\"#black-pawn\" transform=\"translate(15, 60)\" /><use href=\"#black-king\" xlink:href=\"#black-king\" transform=\"translate(105, 60)\" /><use href=\"#black-queen\" xlink:href=\"#black-queen\" transform=\"translate(150, 60)\" /><use href=\"#white-knight\" xlink:href=\"#white-knight\" transform=\"translate(330, 15)\" /></svg>"
      ],
      "text/plain": [
       "Board('7N/p1kq4/5b2/P2PPp2/p7/8/2r4B/1q1K4 w - - 0 68')"
      ]
     },
     "execution_count": 40,
     "metadata": {},
     "output_type": "execute_result"
    }
   ],
   "source": [
    "board2"
   ]
  },
  {
   "cell_type": "code",
   "execution_count": 41,
   "metadata": {},
   "outputs": [
    {
     "data": {
      "text/plain": [
       "True"
      ]
     },
     "execution_count": 41,
     "metadata": {},
     "output_type": "execute_result"
    }
   ],
   "source": [
    "conn.close()\n",
    "remove_context()"
   ]
  },
  {
   "cell_type": "code",
   "execution_count": null,
   "metadata": {},
   "outputs": [],
   "source": []
  }
 ],
 "metadata": {
  "kernelspec": {
   "display_name": "Python 3",
   "language": "python",
   "name": "python3"
  },
  "language_info": {
   "codemirror_mode": {
    "name": "ipython",
    "version": 3
   },
   "file_extension": ".py",
   "mimetype": "text/x-python",
   "name": "python",
   "nbconvert_exporter": "python",
   "pygments_lexer": "ipython3",
   "version": "3.12.0"
  }
 },
 "nbformat": 4,
 "nbformat_minor": 2
}
