{
 "cells": [
  {
   "cell_type": "code",
   "execution_count": 1,
   "metadata": {},
   "outputs": [],
   "source": [
    "from teradataml import *\n",
    "import chess\n",
    "import time\n",
    "import random\n"
   ]
  },
  {
   "cell_type": "code",
   "execution_count": 2,
   "metadata": {},
   "outputs": [],
   "source": [
    "# Connect with Teradata Database\n",
    "eng = create_context(\"192.168.56.1\", \"val\", \"val\")\n",
    "conn = get_connection()\n",
    "\n",
    "# Drop the tables if they already exist - if you want to start over with the disctionary.\n",
    "\n",
    "#if conn.dialect.has_table(connection=conn, table_name=\"replay_buffer\"):\n",
    "#    db_drop_table(\"replay_buffer\")\n",
    "\n",
    "# Create the tables holding the training data.\n",
    "\n",
    "#create_game_table = \"create multiset table replay_buffer (game_id BIGINT, sequence INTEGER, FEN VARCHAR(100), ply VARCHAR(10), reward FLOAT) PRIMARY INDEX (game_id);\"\n",
    "#execute_sql(create_game_table)\n",
    "\n",
    "#execute_sql(\"insert into replay_buffer (game_id) values (0);\")"
   ]
  },
  {
   "cell_type": "code",
   "execution_count": 3,
   "metadata": {},
   "outputs": [],
   "source": [
    "def play_game(in_board, training=None):\n",
    "    \n",
    "    # Initialize the starting variables.\n",
    "    sequence_no = 0\n",
    "    reward = 0\n",
    "    discount = 0.95\n",
    "\n",
    "    board = chess.Board()\n",
    "    if in_board is not None:\n",
    "        board = in_board\n",
    "\n",
    "    if training == True:\n",
    "        \n",
    "        # Set the game_id by looking up the last used game_id.\n",
    "        game_id_cursor = execute_sql(\"SELECT MAX(game_id) FROM replay_buffer;\")\n",
    "        game_id = int(game_id_cursor.fetchall()[0][0]) + 1  # There has to be a better way to do this.\n",
    "\n",
    "    # Launch into the key loop.\n",
    "    while not board.is_checkmate() and not board.is_stalemate() and not board.is_insufficient_material() and not board.can_claim_draw() and not board.is_seventyfive_moves() and not board.is_fivefold_repetition():\n",
    "        if training and sequence_no == 0:\n",
    "            fen = board.fen()\n",
    "            spaces_pos = [pos for pos, char in enumerate(fen) if char == ' ']\n",
    "            opening_fen = fen[:spaces_pos[3]]\n",
    "            \n",
    "            insert_replay_buffer = \"INSERT INTO replay_buffer (game_id, ply, FEN) VALUES (\" + str(game_id) + \",\" + str(sequence_no) + \",'\" + opening_fen + \"');\"\n",
    "            execute_sql(insert_replay_buffer)\n",
    "\n",
    "        sequence_no += 1\n",
    "        all_moves = str(board.legal_moves)\n",
    "        start_pos = [pos for pos, char in enumerate(all_moves) if char == '(']\n",
    "        end_pos = [pos for pos, char in enumerate(all_moves) if char == ')']\n",
    "        all_moves_string= all_moves[start_pos[0]+1:end_pos[0]]\n",
    "        all_moves_string = all_moves_string.replace(\" \", \"\")\n",
    "        all_moves_array = all_moves_string.split(',')\n",
    "        next_move = random.choice(all_moves_array)\n",
    "        board.push_san(next_move)\n",
    "\n",
    "        if training:\n",
    "            fen = board.fen()\n",
    "            spaces_pos = [pos for pos, char in enumerate(fen) if char == ' ']\n",
    "            trimmed_fen = fen[:spaces_pos[3]]\n",
    "            \n",
    "            insert_replay_buffer = \"insert into replay_buffer (game_id, ply, FEN, move) values (\" + str(game_id) + \",\" + str(sequence_no) + \",'\" + trimmed_fen + \"','\" + next_move + \"');\"\n",
    "            execute_sql(insert_replay_buffer)\n",
    "            if board.is_checkmate():\n",
    "                if board.outcome().winner:\n",
    "                    reward = 1\n",
    "                else:\n",
    "                    reward = -1\n",
    "\n",
    "    print(\"The reward for \" + str(game_id) + \" is:\" + str(reward) + \".\")\n",
    "    if reward == 0:\n",
    "        Qsa = 0.\n",
    "        execute_sql(\"UPDATE replay_buffer SET reward = \" + str(Qsa) + \" WHERE game_id = \" + str(game_id) + \";\")\n",
    "    else:\n",
    "        for turn in range(sequence_no+1):\n",
    "            Qsa = reward*discount**(sequence_no - turn)\n",
    "            try:\n",
    "                execute_sql(\"UPDATE replay_buffer SET reward = \" + str(Qsa) + \" WHERE game_id = \" + str(game_id) + \" AND ply = \" + str(turn) + \";\")\n",
    "            except:\n",
    "                execute_sql(\"UPDATE replay_buffer SET reward = 0. WHERE game_id = \" + str(game_id) + \" AND ply = \" + str(turn) + \";\")\n",
    "\n",
    "\n",
    "    return board"
   ]
  },
  {
   "cell_type": "code",
   "execution_count": 4,
   "metadata": {},
   "outputs": [
    {
     "name": "stdout",
     "output_type": "stream",
     "text": [
      "The reward for 13063 is:0.\n",
      "1 of 1 completed. Last game duration was 8.726387977600098.\n"
     ]
    }
   ],
   "source": [
    "num_games = 1\n",
    "\n",
    "for counter in range(num_games):\n",
    "    start_time = time.time()\n",
    "    play_game(None,training=True)\n",
    "    end_time = time.time()\n",
    "    print(str(counter+1) + \" of \" + str(num_games) + \" completed. Last game duration was \" + str(end_time-start_time) + \".\")"
   ]
  },
  {
   "cell_type": "code",
   "execution_count": 5,
   "metadata": {},
   "outputs": [
    {
     "data": {
      "text/plain": [
       "<bound method Connection.close of <sqlalchemy.engine.base.Connection object at 0x0000026B8B2EB830>>"
      ]
     },
     "execution_count": 5,
     "metadata": {},
     "output_type": "execute_result"
    }
   ],
   "source": [
    "conn.close"
   ]
  },
  {
   "cell_type": "code",
   "execution_count": null,
   "metadata": {},
   "outputs": [],
   "source": []
  }
 ],
 "metadata": {
  "kernelspec": {
   "display_name": "Python 3",
   "language": "python",
   "name": "python3"
  },
  "language_info": {
   "codemirror_mode": {
    "name": "ipython",
    "version": 3
   },
   "file_extension": ".py",
   "mimetype": "text/x-python",
   "name": "python",
   "nbconvert_exporter": "python",
   "pygments_lexer": "ipython3",
   "version": "3.12.0"
  }
 },
 "nbformat": 4,
 "nbformat_minor": 2
}
