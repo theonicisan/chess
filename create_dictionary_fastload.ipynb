{
 "cells": [
  {
   "cell_type": "code",
   "execution_count": 1,
   "metadata": {},
   "outputs": [],
   "source": [
    "import random\n",
    "import numpy as np\n",
    "import pandas as pd\n",
    "import time\n",
    "import chess\n",
    "from teradataml import *"
   ]
  },
  {
   "cell_type": "code",
   "execution_count": 2,
   "metadata": {},
   "outputs": [],
   "source": [
    "# Connect with Teradata Database\n",
    "eng = create_context(\"192.168.56.1\", \"val\", \"val\")\n",
    "conn = get_connection()\n",
    "replay_buffer_table = \"replay_buffer\"\n",
    "replay_buffer_staging_table = \"replay_buffer_stage\""
   ]
  },
  {
   "cell_type": "code",
   "execution_count": 3,
   "metadata": {},
   "outputs": [],
   "source": [
    "#tdf = DataFrame(replay_buffer_staging_table)\n",
    "\n",
    "batch_df = pd.DataFrame({\n",
    "    'game_id': [],\n",
    "    'ply': [],\n",
    "    'FEN': [],\n",
    "    'move': [],\n",
    "    'reward': [],\n",
    "})\n",
    "\n",
    "random.seed(time.time())"
   ]
  },
  {
   "cell_type": "code",
   "execution_count": 4,
   "metadata": {},
   "outputs": [],
   "source": [
    "def play_game(in_board, game_id, training=None):\n",
    "    \n",
    "    # Initialize the starting variables.\n",
    "    sequence_no = 0\n",
    "    reward = 0\n",
    "    \n",
    "    game_df = pd.DataFrame({\n",
    "        'game_id': [],\n",
    "        'ply': [],\n",
    "        'FEN': [],\n",
    "        'move': [],\n",
    "        'reward': [],\n",
    "    })\n",
    "    board = chess.Board()\n",
    "    if in_board is not None:\n",
    "        board = in_board\n",
    "\n",
    "    # Launch into the key loop.\n",
    "    while not board.is_checkmate() and not board.is_stalemate() and not board.is_insufficient_material() and not board.can_claim_draw() and not board.is_seventyfive_moves() and not board.is_fivefold_repetition():\n",
    "        if training and sequence_no == 0:\n",
    "            fen = board.fen()\n",
    "            spaces_pos = [pos for pos, char in enumerate(fen) if char == ' ']\n",
    "            opening_fen = fen[:spaces_pos[3]]\n",
    "            \n",
    "            ply_array = np.array([game_id, sequence_no, opening_fen, \"\", 0])\n",
    "            new_row = pd.DataFrame([ply_array], columns=game_df.columns)\n",
    "            game_df = pd.concat([game_df, new_row], ignore_index=True)\n",
    "\n",
    "        sequence_no += 1\n",
    "        all_moves = str(board.legal_moves)\n",
    "        start_pos = [pos for pos, char in enumerate(all_moves) if char == '(']\n",
    "        end_pos = [pos for pos, char in enumerate(all_moves) if char == ')']\n",
    "        all_moves_string= all_moves[start_pos[0]+1:end_pos[0]]\n",
    "        all_moves_string = all_moves_string.replace(\" \", \"\")\n",
    "        all_moves_array = all_moves_string.split(',')\n",
    "        # random.seed(time.time())\n",
    "        random_int = random.randint(0, len(all_moves_array)-1)\n",
    "        next_move = all_moves_array[random_int]\n",
    "        board.push_san(next_move)\n",
    "\n",
    "        if training:\n",
    "            fen = board.fen()\n",
    "            spaces_pos = [pos for pos, char in enumerate(fen) if char == ' ']\n",
    "            trimmed_fen = fen[:spaces_pos[3]]\n",
    "            \n",
    "\n",
    "            ply_array = np.array([game_id, sequence_no, trimmed_fen, next_move, 0])\n",
    "            new_row = pd.DataFrame([ply_array], columns=game_df.columns)\n",
    "            game_df = pd.concat([game_df, new_row], ignore_index=True)\n",
    "\n",
    "    if board.is_checkmate():\n",
    "        if board.outcome().winner:\n",
    "            reward = 1\n",
    "        else:\n",
    "            reward = -1\n",
    "    \n",
    "    reward_array = np.full(sequence_no+1, reward)\n",
    "    game_df['reward'] = reward_array\n",
    "\n",
    "    return game_df, reward"
   ]
  },
  {
   "cell_type": "code",
   "execution_count": 5,
   "metadata": {},
   "outputs": [
    {
     "name": "stdout",
     "output_type": "stream",
     "text": [
      "Reward for game 40001 was 0.\n",
      "Reward for game 40002 was 0.\n",
      "Reward for game 40003 was 0.\n",
      "Reward for game 40004 was 0.\n",
      "Reward for game 40005 was 0.\n",
      "Reward for game 40006 was 0.\n",
      "Reward for game 40007 was 0.\n",
      "Reward for game 40008 was 0.\n",
      "Reward for game 40009 was 1.\n",
      "Reward for game 40010 was 0.\n",
      "Reward for game 40011 was -1.\n",
      "Reward for game 40012 was 0.\n",
      "Reward for game 40013 was 0.\n",
      "Reward for game 40014 was 0.\n",
      "Reward for game 40015 was 0.\n",
      "Reward for game 40016 was 0.\n",
      "Reward for game 40017 was 0.\n",
      "Reward for game 40018 was 0.\n",
      "Reward for game 40019 was 0.\n",
      "Reward for game 40020 was 0.\n",
      "Processed 6847 rows in batch 1.\n",
      "20 of 20 completed. Last batch duration was 27.121638298034668 with average game duration of 1.0848655319213867.\n"
     ]
    }
   ],
   "source": [
    "num_games = 20\n",
    "batch_size = 25\n",
    "batch_counter = 0\n",
    "out_reward = 0\n",
    "start_time = time.time()\n",
    "\n",
    "# Set the game_id by looking up the last used game_id.\n",
    "game_id_cursor = execute_sql(\"SELECT MAX(game_id) FROM \" + replay_buffer_table +\";\")\n",
    "in_game_id = int(game_id_cursor.fetchall()[0][0]) + 1  # There has to be a better way to do this.\n",
    "\n",
    "for counter in range(num_games):\n",
    "    batch_counter += 1\n",
    "    out_replay_buffer_df, out_reward = play_game(None, in_game_id, training=True)\n",
    "    print(\"Reward for game \" + str(in_game_id) + \" was \" + str(out_reward) + \".\")\n",
    "   \n",
    "    # Increment the game_id\n",
    "    in_game_id += 1\n",
    "\n",
    "    # Append the game dataframe to the batch dataframe.\n",
    "    batch_df = pd.concat([batch_df, out_replay_buffer_df], ignore_index=True)\n",
    "    \n",
    "    if batch_counter == batch_size or counter == num_games-1:\n",
    "        \n",
    "        # Load the batch to the database.\n",
    "        fastload(df = batch_df, table_name = replay_buffer_staging_table, if_exists = 'append')\n",
    "        \n",
    "        # Empty the batch dataframe.\n",
    "        batch_df = pd.DataFrame({\n",
    "            'game_id': [],\n",
    "            'ply': [],\n",
    "            'FEN': [],\n",
    "            'move': [],\n",
    "            'reward': [],\n",
    "        })\n",
    "        \n",
    "        # Reset the batch counter.\n",
    "        batch_counter = 0\n",
    "        end_time = time.time()\n",
    "        batch_duration = end_time-start_time\n",
    "        print(str(counter+1) + \" of \" + str(num_games) + \" completed. Last batch duration was \" + str(batch_duration) + \" with average game duration of \" + str(batch_duration/batch_size) + \".\")\n",
    "        start_time = time.time()\n"
   ]
  },
  {
   "cell_type": "code",
   "execution_count": 6,
   "metadata": {},
   "outputs": [
    {
     "data": {
      "text/plain": [
       "TeradataCursor uRowsHandle=40 bClosed=False"
      ]
     },
     "execution_count": 6,
     "metadata": {},
     "output_type": "execute_result"
    }
   ],
   "source": [
    "execute_sql(\"CALL UpdateProcessBatch()\")"
   ]
  },
  {
   "cell_type": "code",
   "execution_count": 7,
   "metadata": {},
   "outputs": [
    {
     "data": {
      "text/plain": [
       "True"
      ]
     },
     "execution_count": 7,
     "metadata": {},
     "output_type": "execute_result"
    }
   ],
   "source": [
    "conn.close\n",
    "remove_context()"
   ]
  }
 ],
 "metadata": {
  "kernelspec": {
   "display_name": "Python 3",
   "language": "python",
   "name": "python3"
  },
  "language_info": {
   "codemirror_mode": {
    "name": "ipython",
    "version": 3
   },
   "file_extension": ".py",
   "mimetype": "text/x-python",
   "name": "python",
   "nbconvert_exporter": "python",
   "pygments_lexer": "ipython3",
   "version": "3.12.0"
  }
 },
 "nbformat": 4,
 "nbformat_minor": 2
}
