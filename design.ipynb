{
 "cells": [
  {
   "cell_type": "code",
   "execution_count": 2,
   "id": "9607203b-a8ef-4a11-8c33-b368ea418f94",
   "metadata": {},
   "outputs": [],
   "source": [
    "# Import required libraries.\n",
    "import numpy as np"
   ]
  },
  {
   "cell_type": "code",
   "execution_count": 12,
   "id": "67703da6-c11f-4af1-9b94-8f8286e16511",
   "metadata": {},
   "outputs": [
    {
     "name": "stdout",
     "output_type": "stream",
     "text": [
      "(1, 8, 8, 48, 11)\n"
     ]
    }
   ],
   "source": [
    "# Initialize the matrix with zeros to set the same.\n",
    "\n",
    "chess_game = np.zeros((1, 8, 8, 48, 11), dtype=int)\n",
    "print(chess_game.shape)"
   ]
  },
  {
   "cell_type": "code",
   "execution_count": 11,
   "id": "880580f5-6e01-4465-bbd0-751a2a221b81",
   "metadata": {},
   "outputs": [
    {
     "name": "stdout",
     "output_type": "stream",
     "text": [
      "1\n"
     ]
    }
   ],
   "source": [
    "# Just used for some checks.\n",
    "#chess_game[0,0,0,0,0] = 1\n",
    "chess_game[:,:,:,32:40,2] = 1\n",
    "print(chess_game[0,0,0,32,2])"
   ]
  },
  {
   "cell_type": "code",
   "execution_count": 15,
   "id": "d23a150d-0986-4eeb-bf7a-277da099f7c2",
   "metadata": {},
   "outputs": [],
   "source": [
    "# Initialize the board...\n",
    "\n",
    "# Set the starting pieces to Active (excludes promotion candidates).\n",
    "chess_game[:,:,:,:32,0] = 1\n",
    "# Set First Move Indicator to 0.  Should already be set by default: repeated here for completeness.\n",
    "chess_game[:,:,:,:,1] = 0\n",
    "# Set 0 for black and 1 for white.\n",
    "chess_game[:,:,:,:16,2] = 1  # White Pieces.\n",
    "chess_game[:,:,:,16:32,2] = 0  # Black Pieces.\n",
    "chess_game[:,:,:,32:40,2] = 1  # White Promotion Candidates.\n",
    "chess_game[:,:,:,40:,2] = 0    # Black Promotion Candidates."
   ]
  },
  {
   "cell_type": "code",
   "execution_count": null,
   "id": "af65f5f8-0392-492d-9839-cbdd0d08c165",
   "metadata": {},
   "outputs": [],
   "source": []
  }
 ],
 "metadata": {
  "kernelspec": {
   "display_name": "Python 3 (ipykernel)",
   "language": "python",
   "name": "python3"
  },
  "language_info": {
   "codemirror_mode": {
    "name": "ipython",
    "version": 3
   },
   "file_extension": ".py",
   "mimetype": "text/x-python",
   "name": "python",
   "nbconvert_exporter": "python",
   "pygments_lexer": "ipython3",
   "version": "3.10.12"
  }
 },
 "nbformat": 4,
 "nbformat_minor": 5
}
