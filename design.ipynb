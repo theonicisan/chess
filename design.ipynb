{
 "cells": [
  {
   "cell_type": "code",
   "execution_count": 1,
   "metadata": {},
   "outputs": [],
   "source": [
    "import chesslib"
   ]
  },
  {
   "cell_type": "code",
   "execution_count": 2,
   "metadata": {},
   "outputs": [
    {
     "ename": "UnboundLocalError",
     "evalue": "local variable 'filename' referenced before assignment",
     "output_type": "error",
     "traceback": [
      "\u001b[0;31m---------------------------------------------------------------------------\u001b[0m",
      "\u001b[0;31mUnboundLocalError\u001b[0m                         Traceback (most recent call last)",
      "Cell \u001b[0;32mIn[2], line 3\u001b[0m\n\u001b[1;32m      1\u001b[0m num_games \u001b[38;5;241m=\u001b[39m \u001b[38;5;241m5\u001b[39m\n\u001b[0;32m----> 3\u001b[0m num_wins_white, num_wins_black, num_draws, moves, average_time \u001b[38;5;241m=\u001b[39m \u001b[43mchesslib\u001b[49m\u001b[38;5;241;43m.\u001b[39;49m\u001b[43msimulate_play\u001b[49m\u001b[43m(\u001b[49m\u001b[43mnum_games\u001b[49m\u001b[43m,\u001b[49m\u001b[43m \u001b[49m\u001b[43mtraining\u001b[49m\u001b[38;5;241;43m=\u001b[39;49m\u001b[38;5;28;43;01mFalse\u001b[39;49;00m\u001b[43m)\u001b[49m\n\u001b[1;32m      5\u001b[0m \u001b[38;5;28mprint\u001b[39m(\u001b[38;5;124m'\u001b[39m\u001b[38;5;124mNumber of games played: \u001b[39m\u001b[38;5;124m'\u001b[39m \u001b[38;5;241m+\u001b[39m \u001b[38;5;28mstr\u001b[39m(num_games))\n\u001b[1;32m      6\u001b[0m \u001b[38;5;28mprint\u001b[39m(\u001b[38;5;124m'\u001b[39m\u001b[38;5;124mNumber of wins for WHITE: \u001b[39m\u001b[38;5;124m'\u001b[39m \u001b[38;5;241m+\u001b[39m \u001b[38;5;28mstr\u001b[39m(num_wins_white))\n",
      "File \u001b[0;32m~/Documents/CodeProjects/chess/chesslib.py:86\u001b[0m, in \u001b[0;36msimulate_play\u001b[0;34m(iterations, training)\u001b[0m\n\u001b[1;32m     83\u001b[0m start_time \u001b[38;5;241m=\u001b[39m time\u001b[38;5;241m.\u001b[39mtime()\n\u001b[1;32m     85\u001b[0m \u001b[38;5;28;01mfor\u001b[39;00m i \u001b[38;5;129;01min\u001b[39;00m \u001b[38;5;28mrange\u001b[39m(num_games):\n\u001b[0;32m---> 86\u001b[0m     out_board, _, _ \u001b[38;5;241m=\u001b[39m \u001b[43mplay_game\u001b[49m\u001b[43m(\u001b[49m\u001b[38;5;28;43;01mNone\u001b[39;49;00m\u001b[43m,\u001b[49m\u001b[43m \u001b[49m\u001b[43mtraining\u001b[49m\u001b[43m)\u001b[49m\n\u001b[1;32m     87\u001b[0m     moves \u001b[38;5;241m+\u001b[39m\u001b[38;5;241m=\u001b[39m out_board\u001b[38;5;241m.\u001b[39mfullmove_number\n\u001b[1;32m     88\u001b[0m     \u001b[38;5;28;01mif\u001b[39;00m out_board\u001b[38;5;241m.\u001b[39mis_variant_draw() \u001b[38;5;129;01mor\u001b[39;00m out_board\u001b[38;5;241m.\u001b[39mcan_claim_draw() \u001b[38;5;129;01mor\u001b[39;00m out_board\u001b[38;5;241m.\u001b[39mis_insufficient_material() \u001b[38;5;129;01mor\u001b[39;00m out_board\u001b[38;5;241m.\u001b[39mis_stalemate() \u001b[38;5;129;01mor\u001b[39;00m out_board\u001b[38;5;241m.\u001b[39mis_seventyfive_moves() \u001b[38;5;129;01mor\u001b[39;00m out_board\u001b[38;5;241m.\u001b[39mis_fivefold_repetition() :\n",
      "File \u001b[0;32m~/Documents/CodeProjects/chess/chesslib.py:61\u001b[0m, in \u001b[0;36mplay_game\u001b[0;34m(in_board, training)\u001b[0m\n\u001b[1;32m     56\u001b[0m     \u001b[38;5;66;03m# And then save the replay buffer.\u001b[39;00m\n\u001b[1;32m     57\u001b[0m     filename \u001b[38;5;241m=\u001b[39m save_buffer(replay_buffer)\n\u001b[0;32m---> 61\u001b[0m \u001b[38;5;28;01mreturn\u001b[39;00m board, replay_buffer, \u001b[43mfilename\u001b[49m\n",
      "\u001b[0;31mUnboundLocalError\u001b[0m: local variable 'filename' referenced before assignment"
     ]
    }
   ],
   "source": [
    "num_games = 5\n",
    "\n",
    "num_wins_white, num_wins_black, num_draws, moves, average_time = chesslib.simulate_play(num_games, training=False)\n",
    "\n",
    "print('Number of games played: ' + str(num_games))\n",
    "print('Number of wins for WHITE: ' + str(num_wins_white))\n",
    "print('Number of wins for BLACK: ' + str(num_wins_black))\n",
    "print('Number of draws: ' + str(num_draws))\n",
    "print('Average Moves: ' + str(moves))\n",
    "print('Average time per game: ' + str(average_time))"
   ]
  },
  {
   "cell_type": "code",
   "execution_count": null,
   "metadata": {},
   "outputs": [],
   "source": []
  }
 ],
 "metadata": {
  "kernelspec": {
   "display_name": "Python 3 (ipykernel)",
   "language": "python",
   "name": "python3"
  },
  "language_info": {
   "codemirror_mode": {
    "name": "ipython",
    "version": 3
   },
   "file_extension": ".py",
   "mimetype": "text/x-python",
   "name": "python",
   "nbconvert_exporter": "python",
   "pygments_lexer": "ipython3",
   "version": "3.10.12"
  }
 },
 "nbformat": 4,
 "nbformat_minor": 5
}
