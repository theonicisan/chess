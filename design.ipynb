{
 "cells": [
  {
   "cell_type": "code",
   "execution_count": 1,
   "metadata": {},
   "outputs": [],
   "source": [
    "import chesslib"
   ]
  },
  {
   "cell_type": "code",
   "execution_count": 3,
   "metadata": {},
   "outputs": [
    {
     "name": "stdout",
     "output_type": "stream",
     "text": [
      "Number of games played: 20\n",
      "Number of wins for WHITE: 1\n",
      "Number of wins for BLACK: 1\n",
      "Number of draws: 18\n",
      "Average Moves: 166.05263157894737\n",
      "Average time per game: 0.5359012202212685\n"
     ]
    }
   ],
   "source": [
    "num_games = 20\n",
    "\n",
    "num_wins_white, num_wins_black, num_draws, moves, average_time = chesslib.simulate_play(num_games, training=False)\n",
    "\n",
    "print('Number of games played: ' + str(num_games))\n",
    "print('Number of wins for WHITE: ' + str(num_wins_white))\n",
    "print('Number of wins for BLACK: ' + str(num_wins_black))\n",
    "print('Number of draws: ' + str(num_draws))\n",
    "print('Average Moves: ' + str(moves))\n",
    "print('Average time per game: ' + str(average_time))"
   ]
  },
  {
   "cell_type": "code",
   "execution_count": null,
   "metadata": {},
   "outputs": [],
   "source": []
  }
 ],
 "metadata": {
  "kernelspec": {
   "display_name": "Python 3 (ipykernel)",
   "language": "python",
   "name": "python3"
  },
  "language_info": {
   "codemirror_mode": {
    "name": "ipython",
    "version": 3
   },
   "file_extension": ".py",
   "mimetype": "text/x-python",
   "name": "python",
   "nbconvert_exporter": "python",
   "pygments_lexer": "ipython3",
   "version": "3.10.12"
  }
 },
 "nbformat": 4,
 "nbformat_minor": 5
}
