{
 "cells": [
  {
   "cell_type": "code",
   "execution_count": 4,
   "metadata": {},
   "outputs": [],
   "source": [
    "import chess\n",
    "import numpy as np\n",
    "import random\n",
    "import time"
   ]
  },
  {
   "cell_type": "code",
   "execution_count": 5,
   "metadata": {},
   "outputs": [],
   "source": [
    "def play_game():\n",
    "    # Plays a game from the starting position by selecting random moves from the available legal moves list.\n",
    "    \n",
    "    board = chess.Board()\n",
    "\n",
    "    while not board.is_checkmate() and not board.is_stalemate() and not board.is_insufficient_material() and not board.can_claim_draw()    :\n",
    "        all_moves = str(board.legal_moves)\n",
    "        start_pos = [pos for pos, char in enumerate(all_moves) if char == '(']\n",
    "        end_pos = [pos for pos, char in enumerate(all_moves) if char == ')']\n",
    "        all_moves_string= all_moves[start_pos[0]+1:end_pos[0]]\n",
    "        all_moves_string = all_moves_string.replace(\" \", \"\")\n",
    "        all_moves_array = all_moves_string.split(',')\n",
    "        next_move = random.choice(all_moves_array)\n",
    "        board.push_san(next_move)\n",
    "    \n",
    "    return board"
   ]
  },
  {
   "cell_type": "code",
   "execution_count": 8,
   "metadata": {},
   "outputs": [
    {
     "name": "stdout",
     "output_type": "stream",
     "text": [
      "Number of games played: 1000\n",
      "Number of checkmates for WHITE: 102\n",
      "Number of checkmates for BLACK: 71\n",
      "Number of draws: 827\n",
      "Average Moves: 162.56056056056056\n",
      "Total time: 541.9873287677765, average time per game: 0.5425298586264029\n"
     ]
    }
   ],
   "source": [
    "num_wins_white = 0\n",
    "num_wins_black = 0\n",
    "num_draws = 0\n",
    "num_stalemate = 0\n",
    "num_canclaimdraw = 0\n",
    "num_undefined = 0\n",
    "num_insufficient = 0\n",
    "num_games = 1000\n",
    "moves = 0\n",
    "result = ''\n",
    "\n",
    "\n",
    "# Simulate games as a kind of Monte-Carlo simulation for games played using random moves.\n",
    "\n",
    "start_time = time.time()\n",
    "\n",
    "for i in range(num_games):\n",
    "    out_board = play_game()\n",
    "    moves += out_board.fullmove_number\n",
    "    if out_board.is_variant_draw() or out_board.can_claim_draw() or out_board.is_insufficient_material() or out_board.is_stalemate() or out_board.is_seventyfive_moves() or out_board.is_fivefold_repetition() :\n",
    "        num_draws += 1\n",
    "    elif out_board.is_checkmate() and out_board.turn is chess.WHITE:\n",
    "        num_wins_black += 1\n",
    "    elif out_board.is_checkmate() and out_board.turn is chess.BLACK:\n",
    "        num_wins_white += 1\n",
    "    elif out_board.is_stalemate():\n",
    "        num_stalemate += 1\n",
    "    elif out_board.can_claim_draw():\n",
    "        num_canclaimdraw += 1\n",
    "    elif out_board.is_insufficient_material():\n",
    "        num_insufficient += 1\n",
    "    else:\n",
    "        num_undefined += 1 # Just used a control to check if all games were counted.\n",
    "\n",
    "end_time = time.time()\n",
    "duration_time = end_time - start_time\n",
    "average_time = duration_time / i\n",
    "moves = moves / i\n",
    "print('Number of games played: ' + str(num_games))\n",
    "print('Number of checkmates for WHITE: ' + str(num_wins_white))\n",
    "print('Number of checkmates for BLACK: ' + str(num_wins_black))\n",
    "print('Number of draws: ' + str(num_draws))\n",
    "print('Average Moves: ' + str(moves))\n",
    "print('Total time: ' + str(duration_time) + ', average time per game: ' + str(average_time))"
   ]
  },
  {
   "cell_type": "code",
   "execution_count": null,
   "metadata": {},
   "outputs": [],
   "source": []
  },
  {
   "cell_type": "code",
   "execution_count": null,
   "metadata": {},
   "outputs": [],
   "source": []
  }
 ],
 "metadata": {
  "kernelspec": {
   "display_name": "Python 3 (ipykernel)",
   "language": "python",
   "name": "python3"
  },
  "language_info": {
   "codemirror_mode": {
    "name": "ipython",
    "version": 3
   },
   "file_extension": ".py",
   "mimetype": "text/x-python",
   "name": "python",
   "nbconvert_exporter": "python",
   "pygments_lexer": "ipython3",
   "version": "3.10.12"
  }
 },
 "nbformat": 4,
 "nbformat_minor": 5
}
