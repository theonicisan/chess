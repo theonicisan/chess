{
 "cells": [
  {
   "cell_type": "code",
   "execution_count": 9,
   "metadata": {},
   "outputs": [],
   "source": [
    "import chesslib"
   ]
  },
  {
   "cell_type": "code",
   "execution_count": 10,
   "metadata": {},
   "outputs": [
    {
     "name": "stdout",
     "output_type": "stream",
     "text": [
      "Number of games played: 30\n",
      "Number of wins for WHITE: 1\n",
      "Number of wins for BLACK: 4\n",
      "Number of draws: 25\n",
      "Average Moves: 178.0\n",
      "Average time per game: 0.1738\n"
     ]
    }
   ],
   "source": [
    "\n",
    "# num_games must be >=2.\n",
    "num_games = 30\n",
    "\n",
    "# If training=True, then the boards are translated to matrixes and a replay_buffer is assembled.  A file is also written to disk with the replay buffer matrix when the game concludes.\n",
    "# This slows the simulation down by a factor of 7.\n",
    "# Simulations typically run in under 0.6sec without training per game, or <4sec with training per game - depending on system resources.\n",
    "num_wins_white, num_wins_black, num_draws, moves, average_time = chesslib.simulate_play(num_games, training=False)\n",
    "\n",
    "print('Number of games played: ' + str(num_games))\n",
    "print('Number of wins for WHITE: ' + str(num_wins_white))\n",
    "print('Number of wins for BLACK: ' + str(num_wins_black))\n",
    "print('Number of draws: ' + str(num_draws))\n",
    "print('Average Moves: ' + str(round(moves,0)))\n",
    "print('Average time per game: ' + str(round(average_time, 4)))"
   ]
  },
  {
   "cell_type": "code",
   "execution_count": null,
   "metadata": {},
   "outputs": [],
   "source": []
  }
 ],
 "metadata": {
  "kernelspec": {
   "display_name": "Python 3 (ipykernel)",
   "language": "python",
   "name": "python3"
  },
  "language_info": {
   "codemirror_mode": {
    "name": "ipython",
    "version": 3
   },
   "file_extension": ".py",
   "mimetype": "text/x-python",
   "name": "python",
   "nbconvert_exporter": "python",
   "pygments_lexer": "ipython3",
   "version": "3.12.0"
  }
 },
 "nbformat": 4,
 "nbformat_minor": 5
}
