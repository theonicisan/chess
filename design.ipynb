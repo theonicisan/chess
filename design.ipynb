{
 "cells": [
  {
   "cell_type": "code",
   "execution_count": 165,
   "id": "9607203b-a8ef-4a11-8c33-b368ea418f94",
   "metadata": {},
   "outputs": [],
   "source": [
    "##Working Notebook - Not Complete."
   ]
  },
  {
   "cell_type": "code",
   "execution_count": 166,
   "id": "67703da6-c11f-4af1-9b94-8f8286e16511",
   "metadata": {},
   "outputs": [],
   "source": [
    "# Import required libraries.\n",
    "import numpy as np"
   ]
  },
  {
   "cell_type": "code",
   "execution_count": 167,
   "id": "880580f5-6e01-4465-bbd0-751a2a221b81",
   "metadata": {},
   "outputs": [
    {
     "name": "stdout",
     "output_type": "stream",
     "text": [
      "(1, 8, 8, 32)\n"
     ]
    }
   ],
   "source": [
    "# Initialize the matrix with zeros to set the same.\n",
    "\n",
    "chess_game = np.zeros((1, 8, 8, 32), dtype=int)\n",
    "print(chess_game.shape)"
   ]
  },
  {
   "cell_type": "code",
   "execution_count": 168,
   "id": "d23a150d-0986-4eeb-bf7a-277da099f7c2",
   "metadata": {},
   "outputs": [],
   "source": [
    "# Set pieces first before setting piece types.\n",
    "# Dimension 0: Move 0.\n",
    "# Dimension 1: Rank 0-8 is 1 to 8 as per conventional chess board.\n",
    "# Dimension 2: File 0-8 is A to H as per conventional chess board.\n",
    "# Dimension 3: \n",
    "#    0-15 (White): 0.K, 1.Q, 2.BF, 3.KG, 4.RH, 5.BC, 6.KB, 7.RA, 8.PA, 9.PB, 10.PC, 11.PD, 12.PE, 13.PF, 14.PG, 15.PH\n",
    "#    16-31 (Black): 16.K, 17.Q, 18.BF, 19.KG, 20.RH, 21.BC, 22.KB, 23.RA, 24.PA, 25.PB, 26.PC, 27.PD, 28.PE, 29.PF, 30.PG, 31.PH\n",
    "\n",
    "# WHITE PIECES - STARTING POSITION\n",
    "chess_game[0,0,0,7] = 1   #RA  ( 7)\n",
    "chess_game[0,0,1,6] = 1   #KB  ( 6)\n",
    "chess_game[0,0,2,5] = 1   #BC  ( 5)\n",
    "chess_game[0,0,3,1] = 1   #Q   ( 1)\n",
    "chess_game[0,0,4,0] = 1   #K   ( 0)\n",
    "chess_game[0,0,5,2] = 1   #BF  ( 2)\n",
    "chess_game[0,0,6,3] = 1   #KG  ( 3)\n",
    "chess_game[0,0,7,4] = 1   #RH  ( 4)\n",
    "chess_game[0,1,0,8] = 1   #PA  ( 8)\n",
    "chess_game[0,1,1,9] = 1   #PB  ( 9)\n",
    "chess_game[0,1,2,10] = 1  #PC  (10)\n",
    "chess_game[0,1,3,11] = 1  #PD  (11)\n",
    "chess_game[0,1,4,12] = 1  #PE  (12)\n",
    "chess_game[0,1,5,13] = 1  #PF  (13)\n",
    "chess_game[0,1,6,14] = 1  #PG  (14)\n",
    "chess_game[0,1,7,15] = 1  #PH  (15)\n",
    "\n",
    "# BLACK PIECES - STARTING POSITION\n",
    "chess_game[0,7,0,23] = 1  #RA  (23)\n",
    "chess_game[0,7,1,22] = 1  #KB  (22)\n",
    "chess_game[0,7,2,21] = 1  #BC  (21)\n",
    "chess_game[0,7,3,17] = 1  #Q   (17)\n",
    "chess_game[0,7,4,16] = 1  #K   (16)\n",
    "chess_game[0,7,5,18] = 1  #BF  (18)\n",
    "chess_game[0,7,6,19] = 1  #KG  (19)\n",
    "chess_game[0,7,7,20] = 1  #RH  (20)\n",
    "chess_game[0,6,0,24] = 1  #PA  (24)\n",
    "chess_game[0,6,1,25] = 1  #PB  (25)\n",
    "chess_game[0,6,2,26] = 1  #PC  (26)\n",
    "chess_game[0,6,3,27] = 1  #PD  (27)\n",
    "chess_game[0,6,4,28] = 1  #PE  (28)\n",
    "chess_game[0,6,5,29] = 1  #PF  (29)\n",
    "chess_game[0,6,6,30] = 1  #PG  (30)\n",
    "chess_game[0,6,7,31] = 1  #PH  (31)\n",
    "\n",
    "# Now we have a chess game with an opening board set out!"
   ]
  },
  {
   "cell_type": "code",
   "execution_count": 169,
   "id": "af65f5f8-0392-492d-9839-cbdd0d08c165",
   "metadata": {},
   "outputs": [
    {
     "name": "stdout",
     "output_type": "stream",
     "text": [
      "(32, 11)\n"
     ]
    }
   ],
   "source": [
    "# Initialize the feature matrix with zeros to set the same.\n",
    "\n",
    "piece_features = np.zeros((32,11), dtype=int)\n",
    "print(piece_features.shape)"
   ]
  },
  {
   "cell_type": "code",
   "execution_count": 170,
   "metadata": {},
   "outputs": [],
   "source": [
    "# Set Active Indicator, First Move Indicator and Promoted Flag.\n",
    "for i in range(32):\n",
    "    piece_features[i,0] = 1  # Active Indicator\n",
    "    piece_features[i,1] = 0  # First Move Indicator.  Redundant if initialized to 0.\n",
    "    piece_features[i,10] = 0 # Promoted Flag.  Redundant if initialized to 0.\n",
    "\n",
    "# Set Piece Color\n",
    "#    0-15 (White): 0.K, 1.Q, 2.BF, 3.KG, 4.RH, 5.BC, 6.KB, 7.RA, 8.PA, 9.PB, 10.PC, 11.PD, 12.PE, 13.PF, 14.PG, 15.PH\n",
    "#    16-31 (Black): 16.K, 17.Q, 18.BF, 19.KG, 20.RH, 21.BC, 22.KB, 23.RA, 24.PA, 25.PB, 26.PC, 27.PD, 28.PE, 29.PF, 30.PG, 31.PH\n",
    "#    REMOVED: 32-39 (White): 32.PA-P, 33.PB-P, 34.PC-P, 35.PD-P, 36.PE-P, 37.PF-P, 38.PG-P, 39.PH-P\n",
    "#    REMOVED: 40-47 (Black): 40.PA-P, 41.PB-P, 42.PC-P, 43.PD-P, 44.PE-P, 45.PF-P, 46.PG-P, 47.PH-P\n",
    "for i in range(32):\n",
    "    if i < 16:\n",
    "        piece_features[i,2] = 1  # White\n",
    "    else:\n",
    "        piece_features[i,2] = 0  # Black\n",
    "\n",
    "for i in range(32):\n",
    "    if (i == 0) or (i == 16):      # King\n",
    "        piece_features[i,3] = 1\n",
    "    elif (i == 1) or (i == 17):    # Queen\n",
    "        piece_features[i,4] = 1\n",
    "    elif (i == 2) or (i == 21):    # White Bishop\n",
    "        piece_features[i,5] = 1\n",
    "    elif (i == 5) or (i == 18):    # Black Bishop\n",
    "        piece_features[i,6] = 1\n",
    "    elif (i == 3) or (i == 6) or (i == 19) or (i == 22):    # Knight\n",
    "        piece_features[i,7] = 1\n",
    "    elif (i == 4) or (i == 7) or (i == 20) or (i == 23):    # Rook\n",
    "        piece_features[i,8] = 1\n",
    "    else:\n",
    "        piece_features[i,9] = 1 # Pawn"
   ]
  },
  {
   "cell_type": "code",
   "execution_count": 171,
   "metadata": {},
   "outputs": [],
   "source": [
    "#TEST MOVE 1\n",
    "\n",
    "chess_move = np.zeros((1, 8, 8, 32), dtype=int)\n",
    "\n",
    "chess_move[0,0,0,7] = 1   #RA  ( 7)\n",
    "chess_move[0,0,1,6] = 1   #KB  ( 6)\n",
    "chess_move[0,0,2,5] = 1   #BC  ( 5)\n",
    "chess_move[0,0,3,1] = 1   #Q   ( 1)\n",
    "chess_move[0,0,4,0] = 1   #K   ( 0)\n",
    "chess_move[0,0,5,2] = 1   #BF  ( 2)\n",
    "chess_move[0,0,6,3] = 1   #KG  ( 3)\n",
    "chess_move[0,0,7,4] = 1   #RH  ( 4)\n",
    "chess_move[0,2,0,8] = 1   #PA  ( 8)\n",
    "chess_move[0,1,1,9] = 1   #PB  ( 9)\n",
    "chess_move[0,1,2,10] = 1  #PC  (10)\n",
    "chess_move[0,1,3,11] = 1  #PD  (11)\n",
    "chess_move[0,1,4,12] = 1  #PE  (12)\n",
    "chess_move[0,1,5,13] = 1  #PF  (13)\n",
    "chess_move[0,1,6,14] = 1  #PG  (14)\n",
    "chess_move[0,1,7,15] = 1  #PH  (15)\n",
    "\n",
    "# BLACK PIECES - STARTING POSITION\n",
    "chess_move[0,7,0,23] = 1  #RA  (23)\n",
    "chess_move[0,7,1,22] = 1  #KB  (22)\n",
    "chess_move[0,7,2,21] = 1  #BC  (21)\n",
    "chess_move[0,7,3,17] = 1  #Q   (17)\n",
    "chess_move[0,7,4,16] = 1  #K   (16)\n",
    "chess_move[0,7,5,18] = 1  #BF  (18)\n",
    "chess_move[0,7,6,19] = 1  #KG  (19)\n",
    "chess_move[0,7,7,20] = 1  #RH  (20)\n",
    "chess_move[0,6,0,24] = 1  #PA  (24)\n",
    "chess_move[0,6,1,25] = 1  #PB  (25)\n",
    "chess_move[0,6,2,26] = 1  #PC  (26)\n",
    "chess_move[0,6,3,27] = 1  #PD  (27)\n",
    "chess_move[0,6,4,28] = 1  #PE  (28)\n",
    "chess_move[0,6,5,29] = 1  #PF  (29)\n",
    "chess_move[0,6,6,30] = 1  #PG  (30)\n",
    "chess_move[0,6,7,31] = 1  #PH  (31)"
   ]
  },
  {
   "cell_type": "code",
   "execution_count": 172,
   "metadata": {},
   "outputs": [],
   "source": [
    "chess_game = np.append(chess_game, chess_move, axis=0)"
   ]
  },
  {
   "cell_type": "code",
   "execution_count": 173,
   "metadata": {},
   "outputs": [
    {
     "name": "stdout",
     "output_type": "stream",
     "text": [
      "[23 22 21 17 16 18 19 20]\n",
      "[24 25 26 27 28 29 30 31]\n",
      "[0 0 0 0 0 0 0 0]\n",
      "[0 0 0 0 0 0 0 0]\n",
      "[0 0 0 0 0 0 0 0]\n",
      "[0 0 0 0 0 0 0 0]\n",
      "[ 8  9 10 11 12 13 14 15]\n",
      "[7 6 5 1 0 2 3 4]\n",
      "One-Hot for Move 0, Rank: 2, File: 1\n",
      "[0 0 0 0 0 0 0 0 1 0 0 0 0 0 0 0 0 0 0 0 0 0 0 0 0 0 0 0 0 0 0 0]\n"
     ]
    }
   ],
   "source": [
    "#  Some testing code.\n",
    "#  Set these parameters and run the cell.\n",
    "move = 0\n",
    "rank = 2\n",
    "file = 1\n",
    "\n",
    "\n",
    "chess_game_class = np.argmax(chess_game, axis=-1)\n",
    "print(chess_game_class[move,7])\n",
    "print(chess_game_class[move,6])\n",
    "print(chess_game_class[move,5])\n",
    "print(chess_game_class[move,4])\n",
    "print(chess_game_class[move,3])\n",
    "print(chess_game_class[move,2])\n",
    "print(chess_game_class[move,1])\n",
    "print(chess_game_class[move,0])\n",
    "\n",
    "print('One-Hot for Move ' +str(move) + ', Rank: ' +str(rank) + ', File: ' +str(file) + '\\n' + str(chess_game[move,(rank-1),(file-1)]))\n",
    "\n"
   ]
  },
  {
   "cell_type": "code",
   "execution_count": 174,
   "metadata": {},
   "outputs": [],
   "source": [
    "#TEST MOVE 2\n",
    "\n",
    "chess_move = np.zeros((1, 8, 8, 32), dtype=int)\n",
    "\n",
    "chess_move[0,0,0,7] = 1   #RA  ( 7)\n",
    "chess_move[0,0,1,6] = 1   #KB  ( 6)\n",
    "chess_move[0,0,2,5] = 1   #BC  ( 5)\n",
    "chess_move[0,0,3,1] = 1   #Q   ( 1)\n",
    "chess_move[0,0,4,0] = 1   #K   ( 0)\n",
    "chess_move[0,0,5,2] = 1   #BF  ( 2)\n",
    "chess_move[0,0,6,3] = 1   #KG  ( 3)\n",
    "chess_move[0,0,7,4] = 1   #RH  ( 4)\n",
    "chess_move[0,3,0,8] = 1   #PA  ( 8)\n",
    "chess_move[0,1,1,9] = 1   #PB  ( 9)\n",
    "chess_move[0,1,2,10] = 1  #PC  (10)\n",
    "chess_move[0,1,3,11] = 1  #PD  (11)\n",
    "chess_move[0,1,4,12] = 1  #PE  (12)\n",
    "chess_move[0,1,5,13] = 1  #PF  (13)\n",
    "chess_move[0,1,6,14] = 1  #PG  (14)\n",
    "chess_move[0,1,7,15] = 1  #PH  (15)\n",
    "\n",
    "# BLACK PIECES - STARTING POSITION\n",
    "chess_move[0,7,0,23] = 1  #RA  (23)\n",
    "chess_move[0,7,1,22] = 1  #KB  (22)\n",
    "chess_move[0,7,2,21] = 1  #BC  (21)\n",
    "chess_move[0,7,3,17] = 1  #Q   (17)\n",
    "chess_move[0,7,4,16] = 1  #K   (16)\n",
    "chess_move[0,7,5,18] = 1  #BF  (18)\n",
    "chess_move[0,7,6,19] = 1  #KG  (19)\n",
    "chess_move[0,7,7,20] = 1  #RH  (20)\n",
    "chess_move[0,6,0,24] = 1  #PA  (24)\n",
    "chess_move[0,6,1,25] = 1  #PB  (25)\n",
    "chess_move[0,6,2,26] = 1  #PC  (26)\n",
    "chess_move[0,6,3,27] = 1  #PD  (27)\n",
    "chess_move[0,6,4,28] = 1  #PE  (28)\n",
    "chess_move[0,6,5,29] = 1  #PF  (29)\n",
    "chess_move[0,6,6,30] = 1  #PG  (30)\n",
    "chess_move[0,6,7,31] = 1  #PH  (31)"
   ]
  },
  {
   "cell_type": "code",
   "execution_count": 175,
   "metadata": {},
   "outputs": [],
   "source": [
    "#  Append the move to the chess_game.\n",
    "\n",
    "chess_game = np.append(chess_game, chess_move, axis=0)"
   ]
  },
  {
   "cell_type": "code",
   "execution_count": 177,
   "metadata": {},
   "outputs": [
    {
     "name": "stdout",
     "output_type": "stream",
     "text": [
      "[23 22 21 17 16 18 19 20]\n",
      "[24 25 26 27 28 29 30 31]\n",
      "[0 0 0 0 0 0 0 0]\n",
      "[0 0 0 0 0 0 0 0]\n",
      "[8 0 0 0 0 0 0 0]\n",
      "[0 0 0 0 0 0 0 0]\n",
      "[ 0  9 10 11 12 13 14 15]\n",
      "[7 6 5 1 0 2 3 4]\n",
      "One-Hot for Move 2, Rank: 4, File: 1\n",
      "[0 0 0 0 0 0 0 0 1 0 0 0 0 0 0 0 0 0 0 0 0 0 0 0 0 0 0 0 0 0 0 0]\n"
     ]
    }
   ],
   "source": [
    "#  Some testing code.\n",
    "#  Set these parameters and run the cell.\n",
    "move = 2\n",
    "rank = 4\n",
    "file = 1\n",
    "\n",
    "\n",
    "chess_game_class = np.argmax(chess_game, axis=-1)\n",
    "print(chess_game_class[move,7])\n",
    "print(chess_game_class[move,6])\n",
    "print(chess_game_class[move,5])\n",
    "print(chess_game_class[move,4])\n",
    "print(chess_game_class[move,3])\n",
    "print(chess_game_class[move,2])\n",
    "print(chess_game_class[move,1])\n",
    "print(chess_game_class[move,0])\n",
    "\n",
    "print('One-Hot for Move ' +str(move) + ', Rank: ' +str(rank) + ', File: ' +str(file) + '\\n' + str(chess_game[move,(rank-1),(file-1)]))\n"
   ]
  },
  {
   "cell_type": "code",
   "execution_count": null,
   "metadata": {},
   "outputs": [],
   "source": []
  }
 ],
 "metadata": {
  "kernelspec": {
   "display_name": "Python 3 (ipykernel)",
   "language": "python",
   "name": "python3"
  },
  "language_info": {
   "codemirror_mode": {
    "name": "ipython",
    "version": 3
   },
   "file_extension": ".py",
   "mimetype": "text/x-python",
   "name": "python",
   "nbconvert_exporter": "python",
   "pygments_lexer": "ipython3",
   "version": "3.10.12"
  }
 },
 "nbformat": 4,
 "nbformat_minor": 5
}
