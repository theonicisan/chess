{
 "cells": [
  {
   "cell_type": "code",
   "execution_count": 20,
   "metadata": {},
   "outputs": [],
   "source": [
    "#import chesslib as cl\n",
    "import chess\n",
    "import pandas as pd\n",
    "import numpy as np\n",
    "import random\n",
    "import time\n",
    "#from teradataml import *"
   ]
  },
  {
   "cell_type": "code",
   "execution_count": 21,
   "metadata": {},
   "outputs": [],
   "source": [
    "def legal_moves_array(in_board):\n",
    "        # Gets all the legal moves for the board and enumerate them in an array.\n",
    "        all_moves = str(in_board.legal_moves)\n",
    "        start_pos = [pos for pos, char in enumerate(all_moves) if char == '(']\n",
    "        end_pos = [pos for pos, char in enumerate(all_moves) if char == ')']\n",
    "        all_moves_string= all_moves[start_pos[0]+1:end_pos[0]]\n",
    "        all_moves_string = all_moves_string.replace(\" \", \"\")\n",
    "        all_moves_array = all_moves_string.split(',')\n",
    "        \n",
    "        return all_moves_array\n",
    "\n",
    "def truncate_fen(in_board):\n",
    "        # Truncates the FEN to exclude the ply and full move.\n",
    "        fen = in_board.fen()\n",
    "        spaces_pos = [pos for pos, char in enumerate(fen) if char == ' ']\n",
    "        truncated_fen = fen[:spaces_pos[3]]\n",
    "        \n",
    "        return truncated_fen"
   ]
  },
  {
   "cell_type": "markdown",
   "metadata": {},
   "source": [
    "The next section builds the Monte Carlo Tree from a starting position (in this case the starting position is the opening position with White making the first move).  Tthe depth of the search can be specified using the parameter depth = n.  Just note that the depth and legal variations from the opening position are shown respectively below so stay away from depth > 3'ish.\n",
    "\n",
    "(1:20), (2:400), (3:8902), (4:197281), (5:4865609), (6:119060324) \n",
    "\n",
    "The leaf nodes (boards) are written to the array batch_array.  The leaf nodes of the batch_array represents the starting point of the games to be played."
   ]
  },
  {
   "cell_type": "code",
   "execution_count": 22,
   "metadata": {},
   "outputs": [],
   "source": [
    "depth = 1\n",
    "node_board = chess.Board()\n",
    "truncated_fen = truncate_fen(node_board)\n",
    "node_index = 0\n",
    "\n",
    "test_fen = ''\n",
    "\n",
    "# Initialize the game_tree data.\n",
    "batch_array = [\n",
    "    # Node Index, Frame Level, Parent Move Index, Truncated FEN, Move, Reward\n",
    "    [node_index,0,0,truncated_fen,'',0.]\n",
    "]\n",
    "\n",
    "control_array = batch_array\n",
    "\n",
    "\n",
    "for d_level in range(depth):\n",
    "    #print(d_level)\n",
    "    frame_level = d_level + 1\n",
    "\n",
    "    for row in control_array:\n",
    "        \n",
    "        if row[1] == d_level:\n",
    "            node_board.set_fen(row[3])\n",
    "            legal_moves = legal_moves_array(node_board)\n",
    "\n",
    "            for move in legal_moves:\n",
    "                if move != '':  # This needs to be checked in-case we get to a terminal state.  It should be augmented with DRAW states as well.\n",
    "                    node_board.push_san(move)\n",
    "                    truncated_fen = truncate_fen(node_board)\n",
    "                    node_index = node_index + 1\n",
    "                    half_move_array = [node_index, frame_level, row[0],truncated_fen, move, 0.]\n",
    "                    batch_array.append(half_move_array)\n",
    "                    \n",
    "                    node_board.pop()\n",
    "\n",
    "    control_array = batch_array       "
   ]
  },
  {
   "cell_type": "code",
   "execution_count": 23,
   "metadata": {},
   "outputs": [],
   "source": [
    "#counter = 0\n",
    "#print(len(batch_array))\n",
    "#for row in batch_array:\n",
    "#    if row[0] == depth:\n",
    "#    counter += 1\n",
    "#    print(row)\n",
    "\n",
    "#print(counter)"
   ]
  },
  {
   "cell_type": "code",
   "execution_count": null,
   "metadata": {},
   "outputs": [],
   "source": []
  }
 ],
 "metadata": {
  "kernelspec": {
   "display_name": "Python 3",
   "language": "python",
   "name": "python3"
  },
  "language_info": {
   "codemirror_mode": {
    "name": "ipython",
    "version": 3
   },
   "file_extension": ".py",
   "mimetype": "text/x-python",
   "name": "python",
   "nbconvert_exporter": "python",
   "pygments_lexer": "ipython3",
   "version": "3.12.0"
  }
 },
 "nbformat": 4,
 "nbformat_minor": 2
}
