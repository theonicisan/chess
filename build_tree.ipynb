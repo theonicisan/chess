{
 "cells": [
  {
   "cell_type": "code",
   "execution_count": 69,
   "metadata": {},
   "outputs": [],
   "source": [
    "#import chesslib as cl\n",
    "import chess\n",
    "import pandas as pd\n",
    "import numpy as np\n",
    "import random\n",
    "import time\n",
    "#from teradataml import *"
   ]
  },
  {
   "cell_type": "code",
   "execution_count": 70,
   "metadata": {},
   "outputs": [],
   "source": [
    "def legal_moves_array(in_board):\n",
    "        # Gets all the legal moves for the board and enumerate them in an array.\n",
    "        all_moves = str(in_board.legal_moves)\n",
    "        start_pos = [pos for pos, char in enumerate(all_moves) if char == '(']\n",
    "        end_pos = [pos for pos, char in enumerate(all_moves) if char == ')']\n",
    "        all_moves_string= all_moves[start_pos[0]+1:end_pos[0]]\n",
    "        all_moves_string = all_moves_string.replace(\" \", \"\")\n",
    "        all_moves_array = all_moves_string.split(',')\n",
    "        \n",
    "        return all_moves_array\n",
    "\n",
    "def truncate_fen(in_board):\n",
    "        # Truncates the FEN to exclude the ply and full move.\n",
    "        fen = in_board.fen()\n",
    "        spaces_pos = [pos for pos, char in enumerate(fen) if char == ' ']\n",
    "        truncated_fen = fen[:spaces_pos[3]]\n",
    "        \n",
    "        return truncated_fen"
   ]
  },
  {
   "cell_type": "code",
   "execution_count": 71,
   "metadata": {},
   "outputs": [],
   "source": [
    "depth = 6\n",
    "node_board = chess.Board()\n",
    "truncated_fen = truncate_fen(node_board)\n",
    "\n",
    "test_fen = ''\n",
    "\n",
    "# Initialize the game_tree data.\n",
    "batch_array = [\n",
    "    [0,0,truncated_fen,'',0.]\n",
    "]\n",
    "\n",
    "control_array = batch_array\n",
    "\n",
    "\n",
    "for d_level in range(depth):\n",
    "    #print(d_level)\n",
    "    frame_level = d_level + 1\n",
    "\n",
    "    for row in control_array:\n",
    "        \n",
    "        if row[1] == d_level:\n",
    "            #print(row[1], row[2],row[3])\n",
    "            node_board.set_fen(row[2])\n",
    "            legal_moves = legal_moves_array(node_board)\n",
    "\n",
    "            for move in legal_moves:\n",
    "                if move != '':\n",
    "                    node_board.push_san(move)\n",
    "                    truncated_fen = truncate_fen(node_board)\n",
    "                    half_move_array = [0, frame_level, truncated_fen, move, 0.]\n",
    "                    batch_array.append(half_move_array)\n",
    "                    node_board.pop()\n",
    "\n",
    "    control_array = batch_array\n",
    "\n",
    "\n",
    "\n",
    "\n",
    "       "
   ]
  },
  {
   "cell_type": "code",
   "execution_count": 72,
   "metadata": {},
   "outputs": [
    {
     "name": "stdout",
     "output_type": "stream",
     "text": [
      "124132537\n"
     ]
    }
   ],
   "source": [
    "print(len(batch_array))\n",
    "\n"
   ]
  },
  {
   "cell_type": "code",
   "execution_count": 73,
   "metadata": {},
   "outputs": [
    {
     "name": "stdout",
     "output_type": "stream",
     "text": [
      "119060324\n"
     ]
    }
   ],
   "source": [
    "counter = 0\n",
    "\n",
    "for row in batch_array:\n",
    "    if row[1] == depth:\n",
    "        counter += 1\n",
    "        #print(row)\n",
    "\n",
    "print(counter)"
   ]
  }
 ],
 "metadata": {
  "kernelspec": {
   "display_name": "Python 3",
   "language": "python",
   "name": "python3"
  },
  "language_info": {
   "codemirror_mode": {
    "name": "ipython",
    "version": 3
   },
   "file_extension": ".py",
   "mimetype": "text/x-python",
   "name": "python",
   "nbconvert_exporter": "python",
   "pygments_lexer": "ipython3",
   "version": "3.12.0"
  }
 },
 "nbformat": 4,
 "nbformat_minor": 2
}
